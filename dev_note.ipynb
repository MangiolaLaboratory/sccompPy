{
 "cells": [
  {
   "cell_type": "code",
   "execution_count": 3,
   "metadata": {},
   "outputs": [],
   "source": [
    "from sccompPy.methods import *"
   ]
  },
  {
   "cell_type": "code",
   "execution_count": 2,
   "metadata": {},
   "outputs": [
    {
     "data": {
      "text/html": [
       "<div>\n",
       "<style scoped>\n",
       "    .dataframe tbody tr th:only-of-type {\n",
       "        vertical-align: middle;\n",
       "    }\n",
       "\n",
       "    .dataframe tbody tr th {\n",
       "        vertical-align: top;\n",
       "    }\n",
       "\n",
       "    .dataframe thead th {\n",
       "        text-align: right;\n",
       "    }\n",
       "</style>\n",
       "<table border=\"1\" class=\"dataframe\">\n",
       "  <thead>\n",
       "    <tr style=\"text-align: right;\">\n",
       "      <th></th>\n",
       "      <th>sample</th>\n",
       "      <th>type</th>\n",
       "      <th>phenotype</th>\n",
       "      <th>count</th>\n",
       "      <th>cell_group</th>\n",
       "      <th>proportion</th>\n",
       "    </tr>\n",
       "  </thead>\n",
       "  <tbody>\n",
       "    <tr>\n",
       "      <th>0</th>\n",
       "      <td>10x_6K</td>\n",
       "      <td>benign</td>\n",
       "      <td>b_cell_macrophage_precursor_or_follicular_LTB_...</td>\n",
       "      <td>42</td>\n",
       "      <td>BM</td>\n",
       "      <td>0.008350</td>\n",
       "    </tr>\n",
       "    <tr>\n",
       "      <th>1</th>\n",
       "      <td>10x_6K</td>\n",
       "      <td>benign</td>\n",
       "      <td>B_cell:immature</td>\n",
       "      <td>361</td>\n",
       "      <td>B1</td>\n",
       "      <td>0.071769</td>\n",
       "    </tr>\n",
       "    <tr>\n",
       "      <th>2</th>\n",
       "      <td>10x_6K</td>\n",
       "      <td>benign</td>\n",
       "      <td>B_cell:immature_IGLC3_IGLC2</td>\n",
       "      <td>57</td>\n",
       "      <td>B2</td>\n",
       "      <td>0.011332</td>\n",
       "    </tr>\n",
       "    <tr>\n",
       "      <th>3</th>\n",
       "      <td>10x_6K</td>\n",
       "      <td>benign</td>\n",
       "      <td>B_cell:Memory_ITM2C_IGHA1_MZB1_JCHAIN</td>\n",
       "      <td>40</td>\n",
       "      <td>B3</td>\n",
       "      <td>0.007952</td>\n",
       "    </tr>\n",
       "    <tr>\n",
       "      <th>4</th>\n",
       "      <td>10x_6K</td>\n",
       "      <td>benign</td>\n",
       "      <td>Dendritic_CD11_CD1_high_mito</td>\n",
       "      <td>75</td>\n",
       "      <td>Dm</td>\n",
       "      <td>0.014911</td>\n",
       "    </tr>\n",
       "    <tr>\n",
       "      <th>...</th>\n",
       "      <td>...</td>\n",
       "      <td>...</td>\n",
       "      <td>...</td>\n",
       "      <td>...</td>\n",
       "      <td>...</td>\n",
       "      <td>...</td>\n",
       "    </tr>\n",
       "    <tr>\n",
       "      <th>715</th>\n",
       "      <td>SRR7244582</td>\n",
       "      <td>benign</td>\n",
       "      <td>T_cell:CD8+_GZMK_DUSP2_LYAR_CCL5</td>\n",
       "      <td>197</td>\n",
       "      <td>CD8 2</td>\n",
       "      <td>0.060727</td>\n",
       "    </tr>\n",
       "    <tr>\n",
       "      <th>716</th>\n",
       "      <td>SRR7244582</td>\n",
       "      <td>benign</td>\n",
       "      <td>T_cell:CD8+_non_activated</td>\n",
       "      <td>320</td>\n",
       "      <td>CD8 3</td>\n",
       "      <td>0.098644</td>\n",
       "    </tr>\n",
       "    <tr>\n",
       "      <th>717</th>\n",
       "      <td>SRR7244582</td>\n",
       "      <td>benign</td>\n",
       "      <td>T_cell:CD8+_PPBP_SAT1</td>\n",
       "      <td>39</td>\n",
       "      <td>CD8 4</td>\n",
       "      <td>0.012022</td>\n",
       "    </tr>\n",
       "    <tr>\n",
       "      <th>718</th>\n",
       "      <td>SRR7244582</td>\n",
       "      <td>benign</td>\n",
       "      <td>T_cell:CD8+_S100B</td>\n",
       "      <td>88</td>\n",
       "      <td>CD8 5</td>\n",
       "      <td>0.027127</td>\n",
       "    </tr>\n",
       "    <tr>\n",
       "      <th>719</th>\n",
       "      <td>SRR7244582</td>\n",
       "      <td>benign</td>\n",
       "      <td>T_cell:CD8low_TIMP1_PPBP</td>\n",
       "      <td>107</td>\n",
       "      <td>CD8 6</td>\n",
       "      <td>0.032984</td>\n",
       "    </tr>\n",
       "  </tbody>\n",
       "</table>\n",
       "<p>720 rows × 6 columns</p>\n",
       "</div>"
      ],
      "text/plain": [
       "         sample    type                                          phenotype  \\\n",
       "0        10x_6K  benign  b_cell_macrophage_precursor_or_follicular_LTB_...   \n",
       "1        10x_6K  benign                                    B_cell:immature   \n",
       "2        10x_6K  benign                        B_cell:immature_IGLC3_IGLC2   \n",
       "3        10x_6K  benign              B_cell:Memory_ITM2C_IGHA1_MZB1_JCHAIN   \n",
       "4        10x_6K  benign                       Dendritic_CD11_CD1_high_mito   \n",
       "..          ...     ...                                                ...   \n",
       "715  SRR7244582  benign                   T_cell:CD8+_GZMK_DUSP2_LYAR_CCL5   \n",
       "716  SRR7244582  benign                          T_cell:CD8+_non_activated   \n",
       "717  SRR7244582  benign                              T_cell:CD8+_PPBP_SAT1   \n",
       "718  SRR7244582  benign                                  T_cell:CD8+_S100B   \n",
       "719  SRR7244582  benign                           T_cell:CD8low_TIMP1_PPBP   \n",
       "\n",
       "     count cell_group  proportion  \n",
       "0       42         BM    0.008350  \n",
       "1      361         B1    0.071769  \n",
       "2       57         B2    0.011332  \n",
       "3       40         B3    0.007952  \n",
       "4       75         Dm    0.014911  \n",
       "..     ...        ...         ...  \n",
       "715    197      CD8 2    0.060727  \n",
       "716    320      CD8 3    0.098644  \n",
       "717     39      CD8 4    0.012022  \n",
       "718     88      CD8 5    0.027127  \n",
       "719    107      CD8 6    0.032984  \n",
       "\n",
       "[720 rows x 6 columns]"
      ]
     },
     "execution_count": 2,
     "metadata": {},
     "output_type": "execute_result"
    }
   ],
   "source": [
    "count_obj = pd.read_csv('./data/count_obj.csv')\n",
    "count_obj"
   ]
  },
  {
   "cell_type": "code",
   "execution_count": 3,
   "metadata": {},
   "outputs": [
    {
     "name": "stderr",
     "output_type": "stream",
     "text": [
      "15:22:15 - cmdstanpy - INFO - CmdStan start processing\n"
     ]
    },
    {
     "data": {
      "application/vnd.jupyter.widget-view+json": {
       "model_id": "d9d2b3ab9a684e86a0a4e86984eb20d4",
       "version_major": 2,
       "version_minor": 0
      },
      "text/plain": [
       "chain 1 |          | 00:00 Status"
      ]
     },
     "metadata": {},
     "output_type": "display_data"
    },
    {
     "data": {
      "application/vnd.jupyter.widget-view+json": {
       "model_id": "c70a650a629840f7bdd009b3b01fb03f",
       "version_major": 2,
       "version_minor": 0
      },
      "text/plain": [
       "chain 2 |          | 00:00 Status"
      ]
     },
     "metadata": {},
     "output_type": "display_data"
    },
    {
     "data": {
      "application/vnd.jupyter.widget-view+json": {
       "model_id": "93dcbf7a5a2a43b3900b727bb61cb79d",
       "version_major": 2,
       "version_minor": 0
      },
      "text/plain": [
       "chain 3 |          | 00:00 Status"
      ]
     },
     "metadata": {},
     "output_type": "display_data"
    },
    {
     "data": {
      "application/vnd.jupyter.widget-view+json": {
       "model_id": "79da6510261047b08f395d227f4a7a9f",
       "version_major": 2,
       "version_minor": 0
      },
      "text/plain": [
       "chain 4 |          | 00:00 Status"
      ]
     },
     "metadata": {},
     "output_type": "display_data"
    },
    {
     "name": "stdout",
     "output_type": "stream",
     "text": [
      "                                                                                                                                                                                                                                                                                                                                "
     ]
    },
    {
     "name": "stderr",
     "output_type": "stream",
     "text": [
      "15:22:24 - cmdstanpy - INFO - CmdStan done processing.\n",
      "15:22:24 - cmdstanpy - WARNING - Non-fatal error during sampling:\n",
      "Exception: Exception: beta_binomial_lpmf: First prior sample size parameter[1] is inf, but must be positive finite! (in 'glm_multi_beta_binomial.stan', line 214, column 16 to line 219, column 19) (in 'glm_multi_beta_binomial.stan', line 653, column 3 to line 683, column 8)\n",
      "Exception: Exception: beta_binomial_lpmf: First prior sample size parameter[1] is inf, but must be positive finite! (in 'glm_multi_beta_binomial.stan', line 214, column 16 to line 219, column 19) (in 'glm_multi_beta_binomial.stan', line 653, column 3 to line 683, column 8)\n",
      "Exception: Exception: beta_binomial_lpmf: Second prior sample size parameter[296] is 0, but must be positive finite! (in 'glm_multi_beta_binomial.stan', line 214, column 16 to line 219, column 19) (in 'glm_multi_beta_binomial.stan', line 653, column 3 to line 683, column 8)\n",
      "Exception: Exception: beta_binomial_lpmf: First prior sample size parameter[3] is inf, but must be positive finite! (in 'glm_multi_beta_binomial.stan', line 214, column 16 to line 219, column 19) (in 'glm_multi_beta_binomial.stan', line 653, column 3 to line 683, column 8)\n",
      "Consider re-running with show_console=True if the above output is unclear!\n"
     ]
    },
    {
     "name": "stdout",
     "output_type": "stream",
     "text": [
      "\n"
     ]
    }
   ],
   "source": [
    "estimate_res = sccomp_estimate(\n",
    "    data = count_obj,\n",
    "    formula_composition = '~ 0 + type', \n",
    "    sample = 'sample',\n",
    "    cell_group = 'cell_group',\n",
    "    count = 'count',\n",
    "    verbose = False\n",
    ")"
   ]
  },
  {
   "cell_type": "code",
   "execution_count": 4,
   "metadata": {},
   "outputs": [
    {
     "data": {
      "text/plain": [
       "dict_keys(['fit', 'model_input', 'truncation_df2', 'sample', 'cell_group', 'count', 'formula_composition', 'formula_variability', 'noise_model'])"
      ]
     },
     "execution_count": 4,
     "metadata": {},
     "output_type": "execute_result"
    }
   ],
   "source": [
    "estimate_res.keys()"
   ]
  },
  {
   "cell_type": "code",
   "execution_count": 4,
   "metadata": {},
   "outputs": [
    {
     "name": "stdout",
     "output_type": "stream",
     "text": [
      "Warning: These elements require backquotes: ['type[cancer]', 'type[benign]']\n"
     ]
    },
    {
     "name": "stderr",
     "output_type": "stream",
     "text": [
      "/home/chzhan1/Python/SAiGENCI/sccompPy/utilities.py:288: FutureWarning: The default of observed=False is deprecated and will be changed to True in a future version of pandas. Pass observed=False to retain current behavior or observed=True to adopt the future default and silence this warning.\n",
      "  grouped = draws.groupby([cell_group, 'M', 'parameter'])\n",
      "/home/chzhan1/Python/SAiGENCI/sccompPy/utilities.py:305: FutureWarning: The default of observed=False is deprecated and will be changed to True in a future version of pandas. Pass observed=False to retain current behavior or observed=True to adopt the future default and silence this warning.\n",
      "  summary[\"FDR\"] = summary.groupby(\"parameter\")[f\"{prefix}pH0\"].transform(lambda pH0: get_FDR(pH0))\n"
     ]
    }
   ],
   "source": [
    "test_res = sccomp_test(estimate_res, contrasts= ['type[cancer] - type[benign]'])"
   ]
  },
  {
   "cell_type": "code",
   "execution_count": 6,
   "metadata": {},
   "outputs": [
    {
     "data": {
      "text/html": [
       "<div>\n",
       "<style scoped>\n",
       "    .dataframe tbody tr th:only-of-type {\n",
       "        vertical-align: middle;\n",
       "    }\n",
       "\n",
       "    .dataframe tbody tr th {\n",
       "        vertical-align: top;\n",
       "    }\n",
       "\n",
       "    .dataframe thead th {\n",
       "        text-align: right;\n",
       "    }\n",
       "</style>\n",
       "<table border=\"1\" class=\"dataframe\">\n",
       "  <thead>\n",
       "    <tr style=\"text-align: right;\">\n",
       "      <th></th>\n",
       "      <th>cell_group</th>\n",
       "      <th>parameter</th>\n",
       "      <th>c_lower</th>\n",
       "      <th>c_effect</th>\n",
       "      <th>c_upper</th>\n",
       "      <th>c_pH0</th>\n",
       "      <th>FDR</th>\n",
       "      <th>N_Eff</th>\n",
       "      <th>R_k_hat</th>\n",
       "      <th>v_lower</th>\n",
       "      <th>v_effect</th>\n",
       "      <th>v_upper</th>\n",
       "      <th>v_pH0</th>\n",
       "      <th>factor</th>\n",
       "      <th>design_matrix_col</th>\n",
       "      <th>count_data</th>\n",
       "    </tr>\n",
       "  </thead>\n",
       "  <tbody>\n",
       "    <tr>\n",
       "      <th>0</th>\n",
       "      <td>B1</td>\n",
       "      <td>type[benign]</td>\n",
       "      <td>0.898508</td>\n",
       "      <td>1.149970</td>\n",
       "      <td>1.390487</td>\n",
       "      <td>0.00000</td>\n",
       "      <td>0.000000</td>\n",
       "      <td>5893.140</td>\n",
       "      <td>0.999915</td>\n",
       "      <td>NaN</td>\n",
       "      <td>NaN</td>\n",
       "      <td>NaN</td>\n",
       "      <td>NaN</td>\n",
       "      <td>type</td>\n",
       "      <td>type[benign]</td>\n",
       "      <td>sample    type        phenotype  co...</td>\n",
       "    </tr>\n",
       "    <tr>\n",
       "      <th>1</th>\n",
       "      <td>B1</td>\n",
       "      <td>type[cancer]</td>\n",
       "      <td>0.151240</td>\n",
       "      <td>0.492117</td>\n",
       "      <td>0.812627</td>\n",
       "      <td>0.01400</td>\n",
       "      <td>0.001052</td>\n",
       "      <td>5548.050</td>\n",
       "      <td>0.999819</td>\n",
       "      <td>NaN</td>\n",
       "      <td>NaN</td>\n",
       "      <td>NaN</td>\n",
       "      <td>NaN</td>\n",
       "      <td>type</td>\n",
       "      <td>type[cancer]</td>\n",
       "      <td>sample    type        phenotype  co...</td>\n",
       "    </tr>\n",
       "    <tr>\n",
       "      <th>2</th>\n",
       "      <td>B1</td>\n",
       "      <td>type[cancer] - type[benign]</td>\n",
       "      <td>-1.057666</td>\n",
       "      <td>-0.659194</td>\n",
       "      <td>-0.243006</td>\n",
       "      <td>0.00450</td>\n",
       "      <td>0.001050</td>\n",
       "      <td>NaN</td>\n",
       "      <td>NaN</td>\n",
       "      <td>NaN</td>\n",
       "      <td>NaN</td>\n",
       "      <td>NaN</td>\n",
       "      <td>NaN</td>\n",
       "      <td>NaN</td>\n",
       "      <td>NaN</td>\n",
       "      <td>sample    type        phenotype  co...</td>\n",
       "    </tr>\n",
       "    <tr>\n",
       "      <th>3</th>\n",
       "      <td>B2</td>\n",
       "      <td>type[benign]</td>\n",
       "      <td>0.395654</td>\n",
       "      <td>0.727673</td>\n",
       "      <td>1.018022</td>\n",
       "      <td>0.00000</td>\n",
       "      <td>0.000000</td>\n",
       "      <td>5643.520</td>\n",
       "      <td>0.999533</td>\n",
       "      <td>NaN</td>\n",
       "      <td>NaN</td>\n",
       "      <td>NaN</td>\n",
       "      <td>NaN</td>\n",
       "      <td>type</td>\n",
       "      <td>type[benign]</td>\n",
       "      <td>sample    type                    p...</td>\n",
       "    </tr>\n",
       "    <tr>\n",
       "      <th>4</th>\n",
       "      <td>B2</td>\n",
       "      <td>type[cancer]</td>\n",
       "      <td>-0.406273</td>\n",
       "      <td>0.032350</td>\n",
       "      <td>0.424492</td>\n",
       "      <td>0.63750</td>\n",
       "      <td>0.088059</td>\n",
       "      <td>5379.620</td>\n",
       "      <td>1.000760</td>\n",
       "      <td>NaN</td>\n",
       "      <td>NaN</td>\n",
       "      <td>NaN</td>\n",
       "      <td>NaN</td>\n",
       "      <td>type</td>\n",
       "      <td>type[cancer]</td>\n",
       "      <td>sample    type                    p...</td>\n",
       "    </tr>\n",
       "    <tr>\n",
       "      <th>...</th>\n",
       "      <td>...</td>\n",
       "      <td>...</td>\n",
       "      <td>...</td>\n",
       "      <td>...</td>\n",
       "      <td>...</td>\n",
       "      <td>...</td>\n",
       "      <td>...</td>\n",
       "      <td>...</td>\n",
       "      <td>...</td>\n",
       "      <td>...</td>\n",
       "      <td>...</td>\n",
       "      <td>...</td>\n",
       "      <td>...</td>\n",
       "      <td>...</td>\n",
       "      <td>...</td>\n",
       "      <td>...</td>\n",
       "    </tr>\n",
       "    <tr>\n",
       "      <th>103</th>\n",
       "      <td>TM2</td>\n",
       "      <td>type[cancer]</td>\n",
       "      <td>-1.216475</td>\n",
       "      <td>-0.898796</td>\n",
       "      <td>-0.594825</td>\n",
       "      <td>0.00000</td>\n",
       "      <td>0.000000</td>\n",
       "      <td>4175.830</td>\n",
       "      <td>0.999376</td>\n",
       "      <td>NaN</td>\n",
       "      <td>NaN</td>\n",
       "      <td>NaN</td>\n",
       "      <td>NaN</td>\n",
       "      <td>type</td>\n",
       "      <td>type[cancer]</td>\n",
       "      <td>sample    type                     ...</td>\n",
       "    </tr>\n",
       "    <tr>\n",
       "      <th>104</th>\n",
       "      <td>TM2</td>\n",
       "      <td>type[cancer] - type[benign]</td>\n",
       "      <td>-0.170021</td>\n",
       "      <td>0.271392</td>\n",
       "      <td>0.711634</td>\n",
       "      <td>0.22200</td>\n",
       "      <td>0.055417</td>\n",
       "      <td>NaN</td>\n",
       "      <td>NaN</td>\n",
       "      <td>NaN</td>\n",
       "      <td>NaN</td>\n",
       "      <td>NaN</td>\n",
       "      <td>NaN</td>\n",
       "      <td>NaN</td>\n",
       "      <td>NaN</td>\n",
       "      <td>sample    type                     ...</td>\n",
       "    </tr>\n",
       "    <tr>\n",
       "      <th>105</th>\n",
       "      <td>TM3</td>\n",
       "      <td>type[benign]</td>\n",
       "      <td>-1.688322</td>\n",
       "      <td>-0.818785</td>\n",
       "      <td>0.290698</td>\n",
       "      <td>0.10550</td>\n",
       "      <td>0.018227</td>\n",
       "      <td>751.498</td>\n",
       "      <td>1.004750</td>\n",
       "      <td>NaN</td>\n",
       "      <td>NaN</td>\n",
       "      <td>NaN</td>\n",
       "      <td>NaN</td>\n",
       "      <td>type</td>\n",
       "      <td>type[benign]</td>\n",
       "      <td>sample    type                     ...</td>\n",
       "    </tr>\n",
       "    <tr>\n",
       "      <th>106</th>\n",
       "      <td>TM3</td>\n",
       "      <td>type[cancer]</td>\n",
       "      <td>-3.875440</td>\n",
       "      <td>-2.678315</td>\n",
       "      <td>-1.308028</td>\n",
       "      <td>0.00025</td>\n",
       "      <td>0.000044</td>\n",
       "      <td>707.872</td>\n",
       "      <td>1.006090</td>\n",
       "      <td>NaN</td>\n",
       "      <td>NaN</td>\n",
       "      <td>NaN</td>\n",
       "      <td>NaN</td>\n",
       "      <td>type</td>\n",
       "      <td>type[cancer]</td>\n",
       "      <td>sample    type                     ...</td>\n",
       "    </tr>\n",
       "    <tr>\n",
       "      <th>107</th>\n",
       "      <td>TM3</td>\n",
       "      <td>type[cancer] - type[benign]</td>\n",
       "      <td>-3.081103</td>\n",
       "      <td>-1.849001</td>\n",
       "      <td>-0.752964</td>\n",
       "      <td>0.00125</td>\n",
       "      <td>0.000500</td>\n",
       "      <td>NaN</td>\n",
       "      <td>NaN</td>\n",
       "      <td>NaN</td>\n",
       "      <td>NaN</td>\n",
       "      <td>NaN</td>\n",
       "      <td>NaN</td>\n",
       "      <td>NaN</td>\n",
       "      <td>NaN</td>\n",
       "      <td>sample    type                     ...</td>\n",
       "    </tr>\n",
       "  </tbody>\n",
       "</table>\n",
       "<p>108 rows × 16 columns</p>\n",
       "</div>"
      ],
      "text/plain": [
       "    cell_group                    parameter   c_lower  c_effect   c_upper  \\\n",
       "0           B1                 type[benign]  0.898508  1.149970  1.390487   \n",
       "1           B1                 type[cancer]  0.151240  0.492117  0.812627   \n",
       "2           B1  type[cancer] - type[benign] -1.057666 -0.659194 -0.243006   \n",
       "3           B2                 type[benign]  0.395654  0.727673  1.018022   \n",
       "4           B2                 type[cancer] -0.406273  0.032350  0.424492   \n",
       "..         ...                          ...       ...       ...       ...   \n",
       "103        TM2                 type[cancer] -1.216475 -0.898796 -0.594825   \n",
       "104        TM2  type[cancer] - type[benign] -0.170021  0.271392  0.711634   \n",
       "105        TM3                 type[benign] -1.688322 -0.818785  0.290698   \n",
       "106        TM3                 type[cancer] -3.875440 -2.678315 -1.308028   \n",
       "107        TM3  type[cancer] - type[benign] -3.081103 -1.849001 -0.752964   \n",
       "\n",
       "       c_pH0       FDR     N_Eff   R_k_hat  v_lower  v_effect  v_upper  v_pH0  \\\n",
       "0    0.00000  0.000000  5893.140  0.999915      NaN       NaN      NaN    NaN   \n",
       "1    0.01400  0.001052  5548.050  0.999819      NaN       NaN      NaN    NaN   \n",
       "2    0.00450  0.001050       NaN       NaN      NaN       NaN      NaN    NaN   \n",
       "3    0.00000  0.000000  5643.520  0.999533      NaN       NaN      NaN    NaN   \n",
       "4    0.63750  0.088059  5379.620  1.000760      NaN       NaN      NaN    NaN   \n",
       "..       ...       ...       ...       ...      ...       ...      ...    ...   \n",
       "103  0.00000  0.000000  4175.830  0.999376      NaN       NaN      NaN    NaN   \n",
       "104  0.22200  0.055417       NaN       NaN      NaN       NaN      NaN    NaN   \n",
       "105  0.10550  0.018227   751.498  1.004750      NaN       NaN      NaN    NaN   \n",
       "106  0.00025  0.000044   707.872  1.006090      NaN       NaN      NaN    NaN   \n",
       "107  0.00125  0.000500       NaN       NaN      NaN       NaN      NaN    NaN   \n",
       "\n",
       "    factor design_matrix_col  \\\n",
       "0     type      type[benign]   \n",
       "1     type      type[cancer]   \n",
       "2      NaN               NaN   \n",
       "3     type      type[benign]   \n",
       "4     type      type[cancer]   \n",
       "..     ...               ...   \n",
       "103   type      type[cancer]   \n",
       "104    NaN               NaN   \n",
       "105   type      type[benign]   \n",
       "106   type      type[cancer]   \n",
       "107    NaN               NaN   \n",
       "\n",
       "                                            count_data  \n",
       "0               sample    type        phenotype  co...  \n",
       "1               sample    type        phenotype  co...  \n",
       "2               sample    type        phenotype  co...  \n",
       "3               sample    type                    p...  \n",
       "4               sample    type                    p...  \n",
       "..                                                 ...  \n",
       "103             sample    type                     ...  \n",
       "104             sample    type                     ...  \n",
       "105             sample    type                     ...  \n",
       "106             sample    type                     ...  \n",
       "107             sample    type                     ...  \n",
       "\n",
       "[108 rows x 16 columns]"
      ]
     },
     "execution_count": 6,
     "metadata": {},
     "output_type": "execute_result"
    }
   ],
   "source": [
    "test_res.get('result')"
   ]
  },
  {
   "cell_type": "code",
   "execution_count": 5,
   "metadata": {},
   "outputs": [],
   "source": [
    "data = estimate_res"
   ]
  },
  {
   "cell_type": "code",
   "execution_count": 20,
   "metadata": {},
   "outputs": [],
   "source": [
    "# Beta\n",
    "beta_factor_of_interest = data.get('model_input').get(\"X\").columns.tolist()\n",
    "beta = draws_to_tibble_x_y(fit, \"beta\", \"C\", \"M\")\n",
    "beta = beta.pivot(index = ['chain__', 'iter__', 'draw__', 'variable', 'M'], columns='C', values='value')\n",
    "beta.columns = beta_factor_of_interest\n",
    "beta.reset_index(inplace=True)\n",
    "# Abundance\n",
    "draws = beta.drop(columns=['variable'], errors='ignore')"
   ]
  },
  {
   "cell_type": "code",
   "execution_count": 8,
   "metadata": {},
   "outputs": [],
   "source": [
    "contrasts= ['type[cancer] - type[benign]']"
   ]
  },
  {
   "cell_type": "code",
   "execution_count": 9,
   "metadata": {},
   "outputs": [
    {
     "data": {
      "text/html": [
       "<div>\n",
       "<style scoped>\n",
       "    .dataframe tbody tr th:only-of-type {\n",
       "        vertical-align: middle;\n",
       "    }\n",
       "\n",
       "    .dataframe tbody tr th {\n",
       "        vertical-align: top;\n",
       "    }\n",
       "\n",
       "    .dataframe thead th {\n",
       "        text-align: right;\n",
       "    }\n",
       "</style>\n",
       "<table border=\"1\" class=\"dataframe\">\n",
       "  <thead>\n",
       "    <tr style=\"text-align: right;\">\n",
       "      <th></th>\n",
       "      <th>chain__</th>\n",
       "      <th>iter__</th>\n",
       "      <th>draw__</th>\n",
       "      <th>M</th>\n",
       "      <th>type[benign]</th>\n",
       "      <th>type[cancer]</th>\n",
       "      <th>type[cancer] - type[benign]</th>\n",
       "    </tr>\n",
       "  </thead>\n",
       "  <tbody>\n",
       "    <tr>\n",
       "      <th>0</th>\n",
       "      <td>1.0</td>\n",
       "      <td>1.0</td>\n",
       "      <td>1</td>\n",
       "      <td>1</td>\n",
       "      <td>1.177740</td>\n",
       "      <td>0.422015</td>\n",
       "      <td>-0.755725</td>\n",
       "    </tr>\n",
       "    <tr>\n",
       "      <th>1</th>\n",
       "      <td>1.0</td>\n",
       "      <td>1.0</td>\n",
       "      <td>1</td>\n",
       "      <td>2</td>\n",
       "      <td>0.548956</td>\n",
       "      <td>0.070468</td>\n",
       "      <td>-0.478488</td>\n",
       "    </tr>\n",
       "    <tr>\n",
       "      <th>2</th>\n",
       "      <td>1.0</td>\n",
       "      <td>1.0</td>\n",
       "      <td>1</td>\n",
       "      <td>3</td>\n",
       "      <td>-0.430942</td>\n",
       "      <td>-1.066110</td>\n",
       "      <td>-0.635168</td>\n",
       "    </tr>\n",
       "    <tr>\n",
       "      <th>3</th>\n",
       "      <td>1.0</td>\n",
       "      <td>1.0</td>\n",
       "      <td>1</td>\n",
       "      <td>4</td>\n",
       "      <td>-0.930825</td>\n",
       "      <td>-1.544170</td>\n",
       "      <td>-0.613345</td>\n",
       "    </tr>\n",
       "    <tr>\n",
       "      <th>4</th>\n",
       "      <td>1.0</td>\n",
       "      <td>1.0</td>\n",
       "      <td>1</td>\n",
       "      <td>5</td>\n",
       "      <td>0.241780</td>\n",
       "      <td>0.547397</td>\n",
       "      <td>0.305617</td>\n",
       "    </tr>\n",
       "    <tr>\n",
       "      <th>...</th>\n",
       "      <td>...</td>\n",
       "      <td>...</td>\n",
       "      <td>...</td>\n",
       "      <td>...</td>\n",
       "      <td>...</td>\n",
       "      <td>...</td>\n",
       "      <td>...</td>\n",
       "    </tr>\n",
       "    <tr>\n",
       "      <th>143995</th>\n",
       "      <td>4.0</td>\n",
       "      <td>1000.0</td>\n",
       "      <td>4000</td>\n",
       "      <td>32</td>\n",
       "      <td>0.932596</td>\n",
       "      <td>0.962251</td>\n",
       "      <td>0.029655</td>\n",
       "    </tr>\n",
       "    <tr>\n",
       "      <th>143996</th>\n",
       "      <td>4.0</td>\n",
       "      <td>1000.0</td>\n",
       "      <td>4000</td>\n",
       "      <td>33</td>\n",
       "      <td>0.699957</td>\n",
       "      <td>0.901000</td>\n",
       "      <td>0.201043</td>\n",
       "    </tr>\n",
       "    <tr>\n",
       "      <th>143997</th>\n",
       "      <td>4.0</td>\n",
       "      <td>1000.0</td>\n",
       "      <td>4000</td>\n",
       "      <td>34</td>\n",
       "      <td>0.330325</td>\n",
       "      <td>0.604459</td>\n",
       "      <td>0.274134</td>\n",
       "    </tr>\n",
       "    <tr>\n",
       "      <th>143998</th>\n",
       "      <td>4.0</td>\n",
       "      <td>1000.0</td>\n",
       "      <td>4000</td>\n",
       "      <td>35</td>\n",
       "      <td>-1.200120</td>\n",
       "      <td>-0.777400</td>\n",
       "      <td>0.422720</td>\n",
       "    </tr>\n",
       "    <tr>\n",
       "      <th>143999</th>\n",
       "      <td>4.0</td>\n",
       "      <td>1000.0</td>\n",
       "      <td>4000</td>\n",
       "      <td>36</td>\n",
       "      <td>-0.844974</td>\n",
       "      <td>-3.132140</td>\n",
       "      <td>-2.287166</td>\n",
       "    </tr>\n",
       "  </tbody>\n",
       "</table>\n",
       "<p>144000 rows × 7 columns</p>\n",
       "</div>"
      ],
      "text/plain": [
       "        chain__  iter__  draw__   M  type[benign]  type[cancer]  \\\n",
       "0           1.0     1.0       1   1      1.177740      0.422015   \n",
       "1           1.0     1.0       1   2      0.548956      0.070468   \n",
       "2           1.0     1.0       1   3     -0.430942     -1.066110   \n",
       "3           1.0     1.0       1   4     -0.930825     -1.544170   \n",
       "4           1.0     1.0       1   5      0.241780      0.547397   \n",
       "...         ...     ...     ...  ..           ...           ...   \n",
       "143995      4.0  1000.0    4000  32      0.932596      0.962251   \n",
       "143996      4.0  1000.0    4000  33      0.699957      0.901000   \n",
       "143997      4.0  1000.0    4000  34      0.330325      0.604459   \n",
       "143998      4.0  1000.0    4000  35     -1.200120     -0.777400   \n",
       "143999      4.0  1000.0    4000  36     -0.844974     -3.132140   \n",
       "\n",
       "        type[cancer] - type[benign]  \n",
       "0                         -0.755725  \n",
       "1                         -0.478488  \n",
       "2                         -0.635168  \n",
       "3                         -0.613345  \n",
       "4                          0.305617  \n",
       "...                             ...  \n",
       "143995                     0.029655  \n",
       "143996                     0.201043  \n",
       "143997                     0.274134  \n",
       "143998                     0.422720  \n",
       "143999                    -2.287166  \n",
       "\n",
       "[144000 rows x 7 columns]"
      ]
     },
     "execution_count": 9,
     "metadata": {},
     "output_type": "execute_result"
    }
   ],
   "source": [
    "mutate_from_expr_list(draws, contrasts, ignore_errors = True)"
   ]
  },
  {
   "cell_type": "code",
   "execution_count": null,
   "metadata": {},
   "outputs": [],
   "source": [
    "from utilities import draws_to_tibble_x_y\n",
    "draws_to_tibble_x_y(estimate_res.get('fit'), 'beta', 'C', 'M')"
   ]
  },
  {
   "cell_type": "markdown",
   "metadata": {},
   "source": [
    "The following is for dev:"
   ]
  },
  {
   "cell_type": "code",
   "execution_count": 12,
   "metadata": {},
   "outputs": [],
   "source": [
    "data = estimate_res\n",
    "# Retrieve attributes from data\n",
    "cell_group = data.get(\"cell_group\", None)\n",
    "model_input = data.get(\"model_input\", {})\n",
    "fit = data.get(\"fit\", {})"
   ]
  },
  {
   "cell_type": "code",
   "execution_count": 13,
   "metadata": {},
   "outputs": [],
   "source": [
    "beta_factor_of_interest = data.get('model_input').get(\"X\").columns.tolist()\n",
    "beta = draws_to_tibble_x_y(fit, \"beta\", \"C\", \"M\")\n",
    "beta = beta.pivot(index = ['chain__', 'iter__', 'draw__', 'variable', 'M'], columns='C', values='value')\n",
    "beta.columns = beta_factor_of_interest\n",
    "beta.reset_index(inplace=True)\n",
    "\n",
    "# Abundance\n",
    "draws = beta.drop(columns=['variable'], errors='ignore')"
   ]
  },
  {
   "cell_type": "code",
   "execution_count": 14,
   "metadata": {},
   "outputs": [],
   "source": [
    "contrasts = ['type[cancer] - type[benign]']"
   ]
  },
  {
   "cell_type": "code",
   "execution_count": 16,
   "metadata": {},
   "outputs": [
    {
     "data": {
      "text/html": [
       "<div>\n",
       "<style scoped>\n",
       "    .dataframe tbody tr th:only-of-type {\n",
       "        vertical-align: middle;\n",
       "    }\n",
       "\n",
       "    .dataframe tbody tr th {\n",
       "        vertical-align: top;\n",
       "    }\n",
       "\n",
       "    .dataframe thead th {\n",
       "        text-align: right;\n",
       "    }\n",
       "</style>\n",
       "<table border=\"1\" class=\"dataframe\">\n",
       "  <thead>\n",
       "    <tr style=\"text-align: right;\">\n",
       "      <th></th>\n",
       "      <th>chain__</th>\n",
       "      <th>iter__</th>\n",
       "      <th>draw__</th>\n",
       "      <th>M</th>\n",
       "      <th>type[benign]</th>\n",
       "      <th>type[cancer]</th>\n",
       "      <th>type[cancer] - type[benign]</th>\n",
       "    </tr>\n",
       "  </thead>\n",
       "  <tbody>\n",
       "    <tr>\n",
       "      <th>0</th>\n",
       "      <td>1.0</td>\n",
       "      <td>1.0</td>\n",
       "      <td>1</td>\n",
       "      <td>1</td>\n",
       "      <td>1.142580</td>\n",
       "      <td>0.174413</td>\n",
       "      <td>-0.968167</td>\n",
       "    </tr>\n",
       "    <tr>\n",
       "      <th>1</th>\n",
       "      <td>1.0</td>\n",
       "      <td>1.0</td>\n",
       "      <td>1</td>\n",
       "      <td>2</td>\n",
       "      <td>0.637652</td>\n",
       "      <td>0.146369</td>\n",
       "      <td>-0.491283</td>\n",
       "    </tr>\n",
       "    <tr>\n",
       "      <th>2</th>\n",
       "      <td>1.0</td>\n",
       "      <td>1.0</td>\n",
       "      <td>1</td>\n",
       "      <td>3</td>\n",
       "      <td>-0.385952</td>\n",
       "      <td>-0.575471</td>\n",
       "      <td>-0.189519</td>\n",
       "    </tr>\n",
       "    <tr>\n",
       "      <th>3</th>\n",
       "      <td>1.0</td>\n",
       "      <td>1.0</td>\n",
       "      <td>1</td>\n",
       "      <td>4</td>\n",
       "      <td>-1.164870</td>\n",
       "      <td>-1.306200</td>\n",
       "      <td>-0.141330</td>\n",
       "    </tr>\n",
       "    <tr>\n",
       "      <th>4</th>\n",
       "      <td>1.0</td>\n",
       "      <td>1.0</td>\n",
       "      <td>1</td>\n",
       "      <td>5</td>\n",
       "      <td>0.164471</td>\n",
       "      <td>0.330181</td>\n",
       "      <td>0.165710</td>\n",
       "    </tr>\n",
       "    <tr>\n",
       "      <th>...</th>\n",
       "      <td>...</td>\n",
       "      <td>...</td>\n",
       "      <td>...</td>\n",
       "      <td>...</td>\n",
       "      <td>...</td>\n",
       "      <td>...</td>\n",
       "      <td>...</td>\n",
       "    </tr>\n",
       "    <tr>\n",
       "      <th>143995</th>\n",
       "      <td>4.0</td>\n",
       "      <td>1000.0</td>\n",
       "      <td>4000</td>\n",
       "      <td>32</td>\n",
       "      <td>0.847936</td>\n",
       "      <td>0.772893</td>\n",
       "      <td>-0.075043</td>\n",
       "    </tr>\n",
       "    <tr>\n",
       "      <th>143996</th>\n",
       "      <td>4.0</td>\n",
       "      <td>1000.0</td>\n",
       "      <td>4000</td>\n",
       "      <td>33</td>\n",
       "      <td>0.603492</td>\n",
       "      <td>0.959336</td>\n",
       "      <td>0.355844</td>\n",
       "    </tr>\n",
       "    <tr>\n",
       "      <th>143997</th>\n",
       "      <td>4.0</td>\n",
       "      <td>1000.0</td>\n",
       "      <td>4000</td>\n",
       "      <td>34</td>\n",
       "      <td>0.022500</td>\n",
       "      <td>0.570511</td>\n",
       "      <td>0.548011</td>\n",
       "    </tr>\n",
       "    <tr>\n",
       "      <th>143998</th>\n",
       "      <td>4.0</td>\n",
       "      <td>1000.0</td>\n",
       "      <td>4000</td>\n",
       "      <td>35</td>\n",
       "      <td>-1.145200</td>\n",
       "      <td>-1.157750</td>\n",
       "      <td>-0.012550</td>\n",
       "    </tr>\n",
       "    <tr>\n",
       "      <th>143999</th>\n",
       "      <td>4.0</td>\n",
       "      <td>1000.0</td>\n",
       "      <td>4000</td>\n",
       "      <td>36</td>\n",
       "      <td>-0.887659</td>\n",
       "      <td>-2.642140</td>\n",
       "      <td>-1.754481</td>\n",
       "    </tr>\n",
       "  </tbody>\n",
       "</table>\n",
       "<p>144000 rows × 7 columns</p>\n",
       "</div>"
      ],
      "text/plain": [
       "        chain__  iter__  draw__   M  type[benign]  type[cancer]  \\\n",
       "0           1.0     1.0       1   1      1.142580      0.174413   \n",
       "1           1.0     1.0       1   2      0.637652      0.146369   \n",
       "2           1.0     1.0       1   3     -0.385952     -0.575471   \n",
       "3           1.0     1.0       1   4     -1.164870     -1.306200   \n",
       "4           1.0     1.0       1   5      0.164471      0.330181   \n",
       "...         ...     ...     ...  ..           ...           ...   \n",
       "143995      4.0  1000.0    4000  32      0.847936      0.772893   \n",
       "143996      4.0  1000.0    4000  33      0.603492      0.959336   \n",
       "143997      4.0  1000.0    4000  34      0.022500      0.570511   \n",
       "143998      4.0  1000.0    4000  35     -1.145200     -1.157750   \n",
       "143999      4.0  1000.0    4000  36     -0.887659     -2.642140   \n",
       "\n",
       "        type[cancer] - type[benign]  \n",
       "0                         -0.968167  \n",
       "1                         -0.491283  \n",
       "2                         -0.189519  \n",
       "3                         -0.141330  \n",
       "4                          0.165710  \n",
       "...                             ...  \n",
       "143995                    -0.075043  \n",
       "143996                     0.355844  \n",
       "143997                     0.548011  \n",
       "143998                    -0.012550  \n",
       "143999                    -1.754481  \n",
       "\n",
       "[144000 rows x 7 columns]"
      ]
     },
     "execution_count": 16,
     "metadata": {},
     "output_type": "execute_result"
    }
   ],
   "source": [
    "from utilities import mutate_from_expr_list\n",
    "mutate_from_expr_list(x = draws, formula_expr = contrasts)"
   ]
  },
  {
   "cell_type": "code",
   "execution_count": null,
   "metadata": {},
   "outputs": [],
   "source": [
    "formula_expr = contrasts "
   ]
  },
  {
   "cell_type": "code",
   "execution_count": null,
   "metadata": {},
   "outputs": [],
   "source": [
    "not formula_expr or not isinstance(formula_expr, dict)"
   ]
  },
  {
   "cell_type": "code",
   "execution_count": null,
   "metadata": {},
   "outputs": [],
   "source": [
    "formula_expr = {k: k for k in formula_expr}\n",
    "formula_expr"
   ]
  },
  {
   "cell_type": "code",
   "execution_count": null,
   "metadata": {},
   "outputs": [],
   "source": [
    "# Process contrast elements by removing fractions, decimals, and splitting expressions\n",
    "def clean_contrast_elements(expr):\n",
    "    expr = re.sub(r\"[0-9]+/[0-9]+\\s?\\*\", \"\", expr)  # Remove fractions\n",
    "    expr = re.sub(r\"[-+]?[0-9]+\\.[0-9]+\\s?\\*\", \"\", expr)  # Remove decimals\n",
    "    elements = re.split(r\"[+\\-*]\", expr)  # Split by operators\n",
    "    elements = [re.sub(r\"[\\(\\)\\s]\", \"\", e) for e in elements]  # Remove parentheses and spaces\n",
    "    return elements\n",
    "contrast_elements = reduce(lambda a, b: a + b, [clean_contrast_elements(f) for f in formula_expr.values()], [])\n",
    "contrast_elements"
   ]
  },
  {
   "cell_type": "code",
   "execution_count": null,
   "metadata": {},
   "outputs": [],
   "source": [
    "# Check if all elements of contrasts are in the parameter\n",
    "parameter_names = beta.columns.tolist()"
   ]
  },
  {
   "cell_type": "code",
   "execution_count": null,
   "metadata": {},
   "outputs": [],
   "source": [
    "e = contrast_elements[0]"
   ]
  },
  {
   "cell_type": "code",
   "execution_count": null,
   "metadata": {},
   "outputs": [],
   "source": [
    "requires_backquotes(e)"
   ]
  },
  {
   "cell_type": "code",
   "execution_count": null,
   "metadata": {},
   "outputs": [],
   "source": [
    "e not in parameter_names"
   ]
  },
  {
   "cell_type": "code",
   "execution_count": null,
   "metadata": {},
   "outputs": [],
   "source": [
    "# Check if backquotes are required (columns with special characters)\n",
    "def requires_backquotes(element):\n",
    "    return not re.match(r\"^[a-zA-Z0-9_]+$\", element)  # Only valid chars for column names\n",
    "invalid_contrasts = [e for e in contrast_elements if requires_backquotes(e) and e not in parameter_names]\n",
    "if invalid_contrasts:\n",
    "    print(f\"Warning: These elements require backquotes: {invalid_contrasts}\")"
   ]
  },
  {
   "cell_type": "code",
   "execution_count": null,
   "metadata": {},
   "outputs": [],
   "source": [
    "parameter_names"
   ]
  },
  {
   "cell_type": "code",
   "execution_count": null,
   "metadata": {},
   "outputs": [],
   "source": [
    "# Check if contrast columns exist in the DataFrame\n",
    "missing_contrasts = [e for e in contrast_elements if e not in parameter_names]\n",
    "if missing_contrasts and not ignore_errors:\n",
    "    raise ValueError(f\"These contrasts are not present in the DataFrame: {missing_contrasts}\")"
   ]
  },
  {
   "cell_type": "code",
   "execution_count": null,
   "metadata": {},
   "outputs": [],
   "source": [
    " # Function to escape column names with backticks if they contain special characters\n",
    "def escape_column_names(formula, columns):\n",
    "    for col in columns:\n",
    "        if not re.match(r\"^[a-zA-Z_][a-zA-Z0-9_]*$\", col):  # Matches valid Python identifiers\n",
    "            escaped_col = f\"`{col}`\"\n",
    "            formula = formula.replace(col, escaped_col)\n",
    "    return formula"
   ]
  },
  {
   "cell_type": "code",
   "execution_count": null,
   "metadata": {},
   "outputs": [],
   "source": [
    "draws"
   ]
  },
  {
   "cell_type": "code",
   "execution_count": null,
   "metadata": {},
   "outputs": [],
   "source": [
    "ignore_errors = False"
   ]
  },
  {
   "cell_type": "code",
   "execution_count": null,
   "metadata": {},
   "outputs": [],
   "source": [
    "# Function to escape column names with backticks if they contain special characters\n",
    "def escape_column_names(formula, columns):\n",
    "    for col in columns:\n",
    "        if not re.match(r\"^[a-zA-Z_][a-zA-Z0-9_]*$\", col):  # Matches valid Python identifiers\n",
    "            escaped_col = f\"`{col}`\"\n",
    "            formula = formula.replace(col, escaped_col)\n",
    "    return formula\n",
    "# Apply formulas to mutate the DataFrame\n",
    "def mutate_with_formula(df, column_name, formula):\n",
    "    try:\n",
    "        # Escape column names with special characters\n",
    "        formula = escape_column_names(formula, parameter_names)\n",
    "        df[column_name] = df.eval(formula)\n",
    "    except Exception as e:\n",
    "        if not ignore_errors:\n",
    "            raise e\n",
    "        print(f\"Warning: Error while processing formula '{formula}': {e}\")\n",
    "    return df\n",
    "for new_col, formula in formula_expr.items():\n",
    "    x = mutate_with_formula(draws, new_col, formula)"
   ]
  },
  {
   "cell_type": "code",
   "execution_count": null,
   "metadata": {},
   "outputs": [],
   "source": [
    "x"
   ]
  },
  {
   "cell_type": "code",
   "execution_count": null,
   "metadata": {},
   "outputs": [],
   "source": [
    "from utilities import summary_to_tibble\n",
    "summary_to_tibble(fit, \"alpha_normalised\", \"C\", \"M\")"
   ]
  },
  {
   "cell_type": "code",
   "execution_count": null,
   "metadata": {},
   "outputs": [],
   "source": [
    "from utilities import get_abundance_contrast_draws\n",
    "get_abundance_contrast_draws(data, contrasts)"
   ]
  },
  {
   "cell_type": "code",
   "execution_count": null,
   "metadata": {},
   "outputs": [],
   "source": [
    "# Extract attributes\n",
    "sample = data.get(\"sample\")\n",
    "cell_group = data.get(\"cell_group\")\n",
    "count = data.get(\"count\")\n",
    "model_input = data.get(\"model_input\")\n",
    "truncation_df2 = data.get(\"truncation_df2\")"
   ]
  },
  {
   "cell_type": "code",
   "execution_count": null,
   "metadata": {},
   "outputs": [],
   "source": [
    "# Abundance\n",
    "abundance_CI = get_abundance_contrast_draws(data, contrasts)"
   ]
  },
  {
   "cell_type": "code",
   "execution_count": null,
   "metadata": {},
   "outputs": [],
   "source": [
    "draws = abundance_CI\n",
    "percent_false_positive = 5 \n",
    "test_composition_above_logit_fold_change=0.1"
   ]
  },
  {
   "cell_type": "code",
   "execution_count": null,
   "metadata": {},
   "outputs": [],
   "source": [
    "from utilities import draws_to_statistics\n",
    "draws_to_statistics(abundance_CI, percent_false_positive / 100,\n",
    "            test_composition_above_logit_fold_change,\n",
    "            cell_group,\n",
    "            \"c_\")"
   ]
  },
  {
   "cell_type": "code",
   "execution_count": null,
   "metadata": {},
   "outputs": [],
   "source": [
    "from utilities import get_variability_contrast_draws\n",
    "variability_CI = get_variability_contrast_draws(data, None)"
   ]
  },
  {
   "cell_type": "code",
   "execution_count": null,
   "metadata": {},
   "outputs": [],
   "source": [
    "from functions_multi_beta_binomia import get_mean_precision_association\n",
    "get_mean_precision_association(fit)"
   ]
  },
  {
   "cell_type": "markdown",
   "metadata": {},
   "source": [
    "# Testing sccomp R vs Python"
   ]
  },
  {
   "cell_type": "code",
   "execution_count": 4,
   "metadata": {},
   "outputs": [],
   "source": [
    "from sccompPy.methods import *"
   ]
  },
  {
   "cell_type": "code",
   "execution_count": 6,
   "metadata": {},
   "outputs": [
    {
     "data": {
      "text/html": [
       "<div>\n",
       "<style scoped>\n",
       "    .dataframe tbody tr th:only-of-type {\n",
       "        vertical-align: middle;\n",
       "    }\n",
       "\n",
       "    .dataframe tbody tr th {\n",
       "        vertical-align: top;\n",
       "    }\n",
       "\n",
       "    .dataframe thead th {\n",
       "        text-align: right;\n",
       "    }\n",
       "</style>\n",
       "<table border=\"1\" class=\"dataframe\">\n",
       "  <thead>\n",
       "    <tr style=\"text-align: right;\">\n",
       "      <th></th>\n",
       "      <th>sample_id</th>\n",
       "      <th>disease</th>\n",
       "      <th>sex</th>\n",
       "      <th>dataset_id</th>\n",
       "      <th>assay</th>\n",
       "      <th>tissue_groups</th>\n",
       "      <th>cell_type_unified_ensemble</th>\n",
       "      <th>age_days</th>\n",
       "      <th>n</th>\n",
       "      <th>collection_id</th>\n",
       "      <th>age_days_scaled</th>\n",
       "    </tr>\n",
       "  </thead>\n",
       "  <tbody>\n",
       "    <tr>\n",
       "      <th>0</th>\n",
       "      <td>SI-GA-E5</td>\n",
       "      <td>OMBC</td>\n",
       "      <td>female</td>\n",
       "      <td>oligo_bhupinder</td>\n",
       "      <td>10x 3' v3</td>\n",
       "      <td>blood</td>\n",
       "      <td>b memory</td>\n",
       "      <td>14594.0</td>\n",
       "      <td>12</td>\n",
       "      <td>NaN</td>\n",
       "      <td>0.630580</td>\n",
       "    </tr>\n",
       "    <tr>\n",
       "      <th>1</th>\n",
       "      <td>SI-GA-E5</td>\n",
       "      <td>OMBC</td>\n",
       "      <td>female</td>\n",
       "      <td>oligo_bhupinder</td>\n",
       "      <td>10x 3' v3</td>\n",
       "      <td>blood</td>\n",
       "      <td>b naive</td>\n",
       "      <td>14594.0</td>\n",
       "      <td>98</td>\n",
       "      <td>NaN</td>\n",
       "      <td>0.630580</td>\n",
       "    </tr>\n",
       "    <tr>\n",
       "      <th>2</th>\n",
       "      <td>SI-GA-E5</td>\n",
       "      <td>OMBC</td>\n",
       "      <td>female</td>\n",
       "      <td>oligo_bhupinder</td>\n",
       "      <td>10x 3' v3</td>\n",
       "      <td>blood</td>\n",
       "      <td>cd14 mono</td>\n",
       "      <td>14594.0</td>\n",
       "      <td>1562</td>\n",
       "      <td>NaN</td>\n",
       "      <td>0.630580</td>\n",
       "    </tr>\n",
       "    <tr>\n",
       "      <th>3</th>\n",
       "      <td>SI-GA-E5</td>\n",
       "      <td>OMBC</td>\n",
       "      <td>female</td>\n",
       "      <td>oligo_bhupinder</td>\n",
       "      <td>10x 3' v3</td>\n",
       "      <td>blood</td>\n",
       "      <td>cd16 mono</td>\n",
       "      <td>14594.0</td>\n",
       "      <td>460</td>\n",
       "      <td>NaN</td>\n",
       "      <td>0.630580</td>\n",
       "    </tr>\n",
       "    <tr>\n",
       "      <th>4</th>\n",
       "      <td>SI-GA-E5</td>\n",
       "      <td>OMBC</td>\n",
       "      <td>female</td>\n",
       "      <td>oligo_bhupinder</td>\n",
       "      <td>10x 3' v3</td>\n",
       "      <td>blood</td>\n",
       "      <td>cd4 naive</td>\n",
       "      <td>14594.0</td>\n",
       "      <td>190</td>\n",
       "      <td>NaN</td>\n",
       "      <td>0.630580</td>\n",
       "    </tr>\n",
       "    <tr>\n",
       "      <th>...</th>\n",
       "      <td>...</td>\n",
       "      <td>...</td>\n",
       "      <td>...</td>\n",
       "      <td>...</td>\n",
       "      <td>...</td>\n",
       "      <td>...</td>\n",
       "      <td>...</td>\n",
       "      <td>...</td>\n",
       "      <td>...</td>\n",
       "      <td>...</td>\n",
       "      <td>...</td>\n",
       "    </tr>\n",
       "    <tr>\n",
       "      <th>602</th>\n",
       "      <td>654650b796a9d73bf68f79c7f9fdc3e6</td>\n",
       "      <td>normal</td>\n",
       "      <td>female</td>\n",
       "      <td>c7775e88-49bf-4ba2-a03b-93f00447c958</td>\n",
       "      <td>10x 3' v3</td>\n",
       "      <td>blood</td>\n",
       "      <td>b memory</td>\n",
       "      <td>19892.0</td>\n",
       "      <td>7</td>\n",
       "      <td>ddfad306-714d-4cc0-9985-d9072820c530</td>\n",
       "      <td>0.859497</td>\n",
       "    </tr>\n",
       "    <tr>\n",
       "      <th>603</th>\n",
       "      <td>654650b796a9d73bf68f79c7f9fdc3e6</td>\n",
       "      <td>normal</td>\n",
       "      <td>female</td>\n",
       "      <td>c7775e88-49bf-4ba2-a03b-93f00447c958</td>\n",
       "      <td>10x 3' v3</td>\n",
       "      <td>blood</td>\n",
       "      <td>mait</td>\n",
       "      <td>19892.0</td>\n",
       "      <td>12</td>\n",
       "      <td>ddfad306-714d-4cc0-9985-d9072820c530</td>\n",
       "      <td>0.859497</td>\n",
       "    </tr>\n",
       "    <tr>\n",
       "      <th>604</th>\n",
       "      <td>8305f1fe94e0bfbf0a6df472160b64c5</td>\n",
       "      <td>normal</td>\n",
       "      <td>female</td>\n",
       "      <td>de2c780c-1747-40bd-9ccf-9588ec186cee</td>\n",
       "      <td>10x 3' v3</td>\n",
       "      <td>blood</td>\n",
       "      <td>b memory</td>\n",
       "      <td>19710.0</td>\n",
       "      <td>136</td>\n",
       "      <td>4f889ffc-d4bc-4748-905b-8eb9db47a2ed</td>\n",
       "      <td>0.851634</td>\n",
       "    </tr>\n",
       "    <tr>\n",
       "      <th>605</th>\n",
       "      <td>b276fb26d57433c65134feae54e83400</td>\n",
       "      <td>normal</td>\n",
       "      <td>female</td>\n",
       "      <td>9dbab10c-118d-496b-966a-67f1763a6b7d</td>\n",
       "      <td>10x 5' v2</td>\n",
       "      <td>blood</td>\n",
       "      <td>cd16 mono</td>\n",
       "      <td>25185.0</td>\n",
       "      <td>273</td>\n",
       "      <td>0a839c4b-10d0-4d64-9272-684c49a2c8ba</td>\n",
       "      <td>1.088198</td>\n",
       "    </tr>\n",
       "    <tr>\n",
       "      <th>606</th>\n",
       "      <td>b276fb26d57433c65134feae54e83400</td>\n",
       "      <td>normal</td>\n",
       "      <td>female</td>\n",
       "      <td>9dbab10c-118d-496b-966a-67f1763a6b7d</td>\n",
       "      <td>10x 5' v2</td>\n",
       "      <td>blood</td>\n",
       "      <td>tgd</td>\n",
       "      <td>25185.0</td>\n",
       "      <td>311</td>\n",
       "      <td>0a839c4b-10d0-4d64-9272-684c49a2c8ba</td>\n",
       "      <td>1.088198</td>\n",
       "    </tr>\n",
       "  </tbody>\n",
       "</table>\n",
       "<p>607 rows × 11 columns</p>\n",
       "</div>"
      ],
      "text/plain": [
       "                            sample_id disease     sex  \\\n",
       "0                            SI-GA-E5    OMBC  female   \n",
       "1                            SI-GA-E5    OMBC  female   \n",
       "2                            SI-GA-E5    OMBC  female   \n",
       "3                            SI-GA-E5    OMBC  female   \n",
       "4                            SI-GA-E5    OMBC  female   \n",
       "..                                ...     ...     ...   \n",
       "602  654650b796a9d73bf68f79c7f9fdc3e6  normal  female   \n",
       "603  654650b796a9d73bf68f79c7f9fdc3e6  normal  female   \n",
       "604  8305f1fe94e0bfbf0a6df472160b64c5  normal  female   \n",
       "605  b276fb26d57433c65134feae54e83400  normal  female   \n",
       "606  b276fb26d57433c65134feae54e83400  normal  female   \n",
       "\n",
       "                               dataset_id      assay tissue_groups  \\\n",
       "0                         oligo_bhupinder  10x 3' v3         blood   \n",
       "1                         oligo_bhupinder  10x 3' v3         blood   \n",
       "2                         oligo_bhupinder  10x 3' v3         blood   \n",
       "3                         oligo_bhupinder  10x 3' v3         blood   \n",
       "4                         oligo_bhupinder  10x 3' v3         blood   \n",
       "..                                    ...        ...           ...   \n",
       "602  c7775e88-49bf-4ba2-a03b-93f00447c958  10x 3' v3         blood   \n",
       "603  c7775e88-49bf-4ba2-a03b-93f00447c958  10x 3' v3         blood   \n",
       "604  de2c780c-1747-40bd-9ccf-9588ec186cee  10x 3' v3         blood   \n",
       "605  9dbab10c-118d-496b-966a-67f1763a6b7d  10x 5' v2         blood   \n",
       "606  9dbab10c-118d-496b-966a-67f1763a6b7d  10x 5' v2         blood   \n",
       "\n",
       "    cell_type_unified_ensemble  age_days     n  \\\n",
       "0                     b memory   14594.0    12   \n",
       "1                      b naive   14594.0    98   \n",
       "2                    cd14 mono   14594.0  1562   \n",
       "3                    cd16 mono   14594.0   460   \n",
       "4                    cd4 naive   14594.0   190   \n",
       "..                         ...       ...   ...   \n",
       "602                   b memory   19892.0     7   \n",
       "603                       mait   19892.0    12   \n",
       "604                   b memory   19710.0   136   \n",
       "605                  cd16 mono   25185.0   273   \n",
       "606                        tgd   25185.0   311   \n",
       "\n",
       "                            collection_id  age_days_scaled  \n",
       "0                                     NaN         0.630580  \n",
       "1                                     NaN         0.630580  \n",
       "2                                     NaN         0.630580  \n",
       "3                                     NaN         0.630580  \n",
       "4                                     NaN         0.630580  \n",
       "..                                    ...              ...  \n",
       "602  ddfad306-714d-4cc0-9985-d9072820c530         0.859497  \n",
       "603  ddfad306-714d-4cc0-9985-d9072820c530         0.859497  \n",
       "604  4f889ffc-d4bc-4748-905b-8eb9db47a2ed         0.851634  \n",
       "605  0a839c4b-10d0-4d64-9272-684c49a2c8ba         1.088198  \n",
       "606  0a839c4b-10d0-4d64-9272-684c49a2c8ba         1.088198  \n",
       "\n",
       "[607 rows x 11 columns]"
      ]
     },
     "execution_count": 6,
     "metadata": {},
     "output_type": "execute_result"
    }
   ],
   "source": [
    "import pyreadr\n",
    "\n",
    "rds_file = '/home/chzhan1/Python/SAiGENCI/blood_cancer/blood_cancer_vs_healthy_counts.rds'\n",
    "\n",
    "result = pyreadr.read_r(rds_file)\n",
    "\n",
    "data = result[None]\n",
    "data.n = data.n.astype('int')\n",
    "\n",
    "data"
   ]
  },
  {
   "cell_type": "code",
   "execution_count": 8,
   "metadata": {},
   "outputs": [
    {
     "name": "stderr",
     "output_type": "stream",
     "text": [
      "10:44:01 - cmdstanpy - INFO - CmdStan start processing\n"
     ]
    },
    {
     "data": {
      "application/vnd.jupyter.widget-view+json": {
       "model_id": "0ee0af230ff94396a6f2343df1b386c8",
       "version_major": 2,
       "version_minor": 0
      },
      "text/plain": [
       "chain 1 |          | 00:00 Status"
      ]
     },
     "metadata": {},
     "output_type": "display_data"
    },
    {
     "data": {
      "application/vnd.jupyter.widget-view+json": {
       "model_id": "f12e866fc2264de78398ea76138bdefd",
       "version_major": 2,
       "version_minor": 0
      },
      "text/plain": [
       "chain 2 |          | 00:00 Status"
      ]
     },
     "metadata": {},
     "output_type": "display_data"
    },
    {
     "data": {
      "application/vnd.jupyter.widget-view+json": {
       "model_id": "3545c62256a5454494e46a290f20260a",
       "version_major": 2,
       "version_minor": 0
      },
      "text/plain": [
       "chain 3 |          | 00:00 Status"
      ]
     },
     "metadata": {},
     "output_type": "display_data"
    },
    {
     "data": {
      "application/vnd.jupyter.widget-view+json": {
       "model_id": "02f76a39d3444d368a284baa1a32c729",
       "version_major": 2,
       "version_minor": 0
      },
      "text/plain": [
       "chain 4 |          | 00:00 Status"
      ]
     },
     "metadata": {},
     "output_type": "display_data"
    },
    {
     "name": "stdout",
     "output_type": "stream",
     "text": [
      "                                                                                                                                                                                                                                                                                                                                "
     ]
    },
    {
     "name": "stderr",
     "output_type": "stream",
     "text": [
      "10:44:10 - cmdstanpy - INFO - CmdStan done processing.\n",
      "10:44:10 - cmdstanpy - WARNING - Non-fatal error during sampling:\n",
      "Exception: Exception: beta_binomial_lpmf: First prior sample size parameter[11] is 0, but must be positive finite! (in 'glm_multi_beta_binomial.stan', line 214, column 16 to line 219, column 19) (in 'glm_multi_beta_binomial.stan', line 653, column 3 to line 683, column 8)\n",
      "\tException: Exception: beta_binomial_lpmf: Second prior sample size parameter[337] is 0, but must be positive finite! (in 'glm_multi_beta_binomial.stan', line 214, column 16 to line 219, column 19) (in 'glm_multi_beta_binomial.stan', line 653, column 3 to line 683, column 8)\n",
      "Exception: Exception: beta_binomial_lpmf: Second prior sample size parameter[24] is 0, but must be positive finite! (in 'glm_multi_beta_binomial.stan', line 214, column 16 to line 219, column 19) (in 'glm_multi_beta_binomial.stan', line 653, column 3 to line 683, column 8)\n",
      "\tException: Exception: beta_binomial_lpmf: Second prior sample size parameter[160] is 0, but must be positive finite! (in 'glm_multi_beta_binomial.stan', line 214, column 16 to line 219, column 19) (in 'glm_multi_beta_binomial.stan', line 653, column 3 to line 683, column 8)\n",
      "\tException: Exception: beta_binomial_lpmf: First prior sample size parameter[1] is inf, but must be positive finite! (in 'glm_multi_beta_binomial.stan', line 214, column 16 to line 219, column 19) (in 'glm_multi_beta_binomial.stan', line 653, column 3 to line 683, column 8)\n",
      "\tException: Exception: beta_binomial_lpmf: First prior sample size parameter[8] is 0, but must be positive finite! (in 'glm_multi_beta_binomial.stan', line 214, column 16 to line 219, column 19) (in 'glm_multi_beta_binomial.stan', line 653, column 3 to line 683, column 8)\n",
      "Exception: Exception: beta_binomial_lpmf: First prior sample size parameter[338] is 0, but must be positive finite! (in 'glm_multi_beta_binomial.stan', line 214, column 16 to line 219, column 19) (in 'glm_multi_beta_binomial.stan', line 653, column 3 to line 683, column 8)\n",
      "Consider re-running with show_console=True if the above output is unclear!\n"
     ]
    },
    {
     "name": "stdout",
     "output_type": "stream",
     "text": [
      "\n"
     ]
    }
   ],
   "source": [
    "estimate_res = sccomp_estimate(\n",
    "    data = data,\n",
    "    formula_composition = '~ 0 + disease + assay', \n",
    "    sample = 'sample_id',\n",
    "    cell_group = 'cell_type_unified_ensemble',\n",
    "    count = 'n',\n",
    "    verbose = False\n",
    ")"
   ]
  },
  {
   "cell_type": "code",
   "execution_count": 10,
   "metadata": {},
   "outputs": [],
   "source": [
    "# code from def get_abundance_contrast_draws\n",
    "data = estimate_res\n",
    "# Retrieve attributes from data\n",
    "cell_group = data.get(\"cell_group\", None)\n",
    "model_input = data.get(\"model_input\", {})\n",
    "fit = data.get(\"fit\", {})"
   ]
  },
  {
   "cell_type": "code",
   "execution_count": 11,
   "metadata": {},
   "outputs": [],
   "source": [
    "# Beta\n",
    "beta_factor_of_interest = data.get('model_input').get(\"X\").columns.tolist()\n",
    "beta = draws_to_tibble_x_y(fit, \"beta\", \"C\", \"M\")\n",
    "beta = beta.pivot(index = ['chain__', 'iter__', 'draw__', 'variable', 'M'], columns='C', values='value')\n",
    "beta.columns = beta_factor_of_interest\n",
    "beta.reset_index(inplace=True)\n",
    "\n",
    "draws = beta.drop(columns=['variable'], errors='ignore')"
   ]
  },
  {
   "cell_type": "code",
   "execution_count": 12,
   "metadata": {},
   "outputs": [],
   "source": [
    "contrasts= ['(disease[OMBC] + disease[MBC]) / 2 - disease[normal]']\n",
    "test_composition_above_logit_fold_change  = 0.5"
   ]
  },
  {
   "cell_type": "code",
   "execution_count": 13,
   "metadata": {},
   "outputs": [],
   "source": [
    "x = draws\n",
    "formula_expr = contrasts"
   ]
  },
  {
   "cell_type": "code",
   "execution_count": 14,
   "metadata": {},
   "outputs": [
    {
     "data": {
      "text/plain": [
       "{'(disease[OMBC] + disease[MBC]) / 2 - disease[normal]': '(disease[OMBC] + disease[MBC]) / 2 - disease[normal]'}"
      ]
     },
     "execution_count": 14,
     "metadata": {},
     "output_type": "execute_result"
    }
   ],
   "source": [
    "if not formula_expr or not isinstance(formula_expr, dict):\n",
    "    formula_expr = {k: k for k in formula_expr}\n",
    "\n",
    "formula_expr"
   ]
  },
  {
   "cell_type": "code",
   "execution_count": 15,
   "metadata": {},
   "outputs": [
    {
     "data": {
      "text/plain": [
       "['chain__',\n",
       " 'iter__',\n",
       " 'draw__',\n",
       " 'M',\n",
       " 'disease[MBC]',\n",
       " 'disease[OMBC]',\n",
       " 'disease[normal]',\n",
       " \"assay[T.10x 3' v3]\",\n",
       " \"assay[T.10x 5' v2]\"]"
      ]
     },
     "execution_count": 15,
     "metadata": {},
     "output_type": "execute_result"
    }
   ],
   "source": [
    "parameter_names = x.columns.tolist()\n",
    "\n",
    "parameter_names"
   ]
  },
  {
   "cell_type": "code",
   "execution_count": 53,
   "metadata": {},
   "outputs": [
    {
     "data": {
      "text/plain": [
       "['disease[OMBC]', 'disease[MBC]', 'disease[normal]']"
      ]
     },
     "execution_count": 53,
     "metadata": {},
     "output_type": "execute_result"
    }
   ],
   "source": [
    "def clean_contrast_elements(expr):\n",
    "\n",
    "    expr = re.sub(r\"[0-9]+/[0-9]+\\s?\\*\", \"\", expr)  # Remove fractions (e.g., \"3/4 *\")\n",
    "    expr = re.sub(r\"[-+]?[0-9]+\\.[0-9]+\\s?\\*\", \"\", expr)  # Remove decimals (e.g., \"1.5 *\")\n",
    "    elements = re.split(r\"[+\\-/*]\", expr)  # Split by operators\n",
    "    elements = [re.sub(r\"[\\(\\)\\s]\", \"\", e) for e in elements]  # Remove parentheses and spaces\n",
    "\n",
    "    # Remove elements that are purely numbers (integers, fractions, or decimals)\n",
    "    filtered_elements = [\n",
    "        e for e in elements \n",
    "        if not re.match(r\"^[-+]?[0-9]+(\\.[0-9]+)?(/[0-9]+)?$\", e)\n",
    "    ]\n",
    "    return filtered_elements\n",
    "    \n",
    "contrast_elements = reduce(lambda a, b: a + b, [clean_contrast_elements(f) for f in formula_expr.values()], [])\n",
    "\n",
    "contrast_elements\n"
   ]
  },
  {
   "cell_type": "code",
   "execution_count": 54,
   "metadata": {},
   "outputs": [
    {
     "name": "stdout",
     "output_type": "stream",
     "text": [
      "Warning: These elements require backquotes: ['disease[OMBC]', 'disease[MBC]', 'disease[normal]'], sccompPy will auto quote them.\n"
     ]
    }
   ],
   "source": [
    "# Check if backquotes are required (columns with special characters)\n",
    "def requires_backquotes(element):\n",
    "    return not re.match(r\"^[a-zA-Z_][a-zA-Z0-9_]*$\", element)  # Only valid chars for column names\n",
    "invalid_contrasts = [e for e in contrast_elements if requires_backquotes(e) or e not in parameter_names]\n",
    "if invalid_contrasts:\n",
    "    print(f\"Warning: These elements require backquotes: {invalid_contrasts}, sccompPy will auto quote them.\")"
   ]
  },
  {
   "cell_type": "code",
   "execution_count": 19,
   "metadata": {},
   "outputs": [],
   "source": [
    "ignore_errors = True"
   ]
  },
  {
   "cell_type": "code",
   "execution_count": 20,
   "metadata": {},
   "outputs": [],
   "source": [
    "# Check if contrast columns exist in the DataFrame\n",
    "missing_contrasts = [e for e in contrast_elements if e not in parameter_names]\n",
    "if missing_contrasts and not ignore_errors:\n",
    "    raise ValueError(f\"These contrasts are not present in the DataFrame: {missing_contrasts}\")"
   ]
  },
  {
   "cell_type": "code",
   "execution_count": 21,
   "metadata": {},
   "outputs": [
    {
     "data": {
      "text/plain": [
       "['disease[MBC]/2']"
      ]
     },
     "execution_count": 21,
     "metadata": {},
     "output_type": "execute_result"
    }
   ],
   "source": [
    "missing_contrasts"
   ]
  },
  {
   "cell_type": "code",
   "execution_count": 31,
   "metadata": {},
   "outputs": [],
   "source": [
    "# Function to escape column names with backticks if they contain special characters\n",
    "def escape_column_names(formula, columns):\n",
    "    for col in columns:\n",
    "        if not re.match(r\"^[a-zA-Z_][a-zA-Z0-9_]*$\", col):  # Matches valid Python identifiers\n",
    "            escaped_col = f\"`{col}`\"\n",
    "            print(f\"{col} has quoted\")\n",
    "            formula = formula.replace(col, escaped_col)\n",
    "    return formula\n",
    "\n",
    "# Apply formulas to mutate the DataFrame\n",
    "def mutate_with_formula(df, column_name, formula):\n",
    "    try:\n",
    "        # Escape column names with special characters\n",
    "        formula = escape_column_names(formula, parameter_names)\n",
    "        df[column_name] = df.eval(formula)\n",
    "    except Exception as e:\n",
    "        if not ignore_errors:\n",
    "            raise e\n",
    "            print(f\"Warning: Error while processing formula '{formula}': {e}\")\n",
    "\n",
    "    return df"
   ]
  },
  {
   "cell_type": "code",
   "execution_count": null,
   "metadata": {},
   "outputs": [],
   "source": [
    "for new_col, formula in formula_expr.items():\n",
    "    x = mutate_with_formula(x, new_col, formula)"
   ]
  },
  {
   "cell_type": "code",
   "execution_count": 25,
   "metadata": {},
   "outputs": [
    {
     "data": {
      "text/plain": [
       "dict_items([('(disease[OMBC] + disease[MBC]) / 2 - disease[normal]', '(disease[OMBC] + disease[MBC]) / 2 - disease[normal]')])"
      ]
     },
     "execution_count": 25,
     "metadata": {},
     "output_type": "execute_result"
    }
   ],
   "source": [
    "formula_expr.items()"
   ]
  },
  {
   "cell_type": "code",
   "execution_count": 28,
   "metadata": {},
   "outputs": [],
   "source": [
    "new_col = '(disease[OMBC] + disease[MBC]) / 2 - disease[normal]'\n",
    "column_name = new_col"
   ]
  },
  {
   "cell_type": "code",
   "execution_count": 27,
   "metadata": {},
   "outputs": [],
   "source": [
    "formula = '(disease[OMBC] + disease[MBC]) / 2 - disease[normal]'"
   ]
  },
  {
   "cell_type": "code",
   "execution_count": 32,
   "metadata": {},
   "outputs": [
    {
     "name": "stdout",
     "output_type": "stream",
     "text": [
      "disease[MBC] has quoted\n",
      "disease[OMBC] has quoted\n",
      "disease[normal] has quoted\n",
      "assay[T.10x 3' v3] has quoted\n",
      "assay[T.10x 5' v2] has quoted\n"
     ]
    },
    {
     "data": {
      "text/plain": [
       "'(`disease[OMBC]` + `disease[MBC]`) / 2 - `disease[normal]`'"
      ]
     },
     "execution_count": 32,
     "metadata": {},
     "output_type": "execute_result"
    }
   ],
   "source": [
    "escape_column_names(formula, parameter_names)"
   ]
  },
  {
   "cell_type": "code",
   "execution_count": 34,
   "metadata": {},
   "outputs": [
    {
     "name": "stdout",
     "output_type": "stream",
     "text": [
      "disease[MBC] has quoted\n",
      "disease[OMBC] has quoted\n",
      "disease[normal] has quoted\n",
      "assay[T.10x 3' v3] has quoted\n",
      "assay[T.10x 5' v2] has quoted\n"
     ]
    },
    {
     "data": {
      "text/html": [
       "<div>\n",
       "<style scoped>\n",
       "    .dataframe tbody tr th:only-of-type {\n",
       "        vertical-align: middle;\n",
       "    }\n",
       "\n",
       "    .dataframe tbody tr th {\n",
       "        vertical-align: top;\n",
       "    }\n",
       "\n",
       "    .dataframe thead th {\n",
       "        text-align: right;\n",
       "    }\n",
       "</style>\n",
       "<table border=\"1\" class=\"dataframe\">\n",
       "  <thead>\n",
       "    <tr style=\"text-align: right;\">\n",
       "      <th></th>\n",
       "      <th>chain__</th>\n",
       "      <th>iter__</th>\n",
       "      <th>draw__</th>\n",
       "      <th>M</th>\n",
       "      <th>disease[MBC]</th>\n",
       "      <th>disease[OMBC]</th>\n",
       "      <th>disease[normal]</th>\n",
       "      <th>assay[T.10x 3' v3]</th>\n",
       "      <th>assay[T.10x 5' v2]</th>\n",
       "      <th>(disease[OMBC] + disease[MBC]) / 2 - disease[normal]</th>\n",
       "    </tr>\n",
       "  </thead>\n",
       "  <tbody>\n",
       "    <tr>\n",
       "      <th>0</th>\n",
       "      <td>1.0</td>\n",
       "      <td>1.0</td>\n",
       "      <td>1</td>\n",
       "      <td>1</td>\n",
       "      <td>0.162775</td>\n",
       "      <td>0.687696</td>\n",
       "      <td>-0.280872</td>\n",
       "      <td>0.162545</td>\n",
       "      <td>0.968469</td>\n",
       "      <td>0.706107</td>\n",
       "    </tr>\n",
       "    <tr>\n",
       "      <th>1</th>\n",
       "      <td>1.0</td>\n",
       "      <td>1.0</td>\n",
       "      <td>1</td>\n",
       "      <td>2</td>\n",
       "      <td>0.480693</td>\n",
       "      <td>1.057210</td>\n",
       "      <td>0.090977</td>\n",
       "      <td>-0.036925</td>\n",
       "      <td>1.354200</td>\n",
       "      <td>0.677974</td>\n",
       "    </tr>\n",
       "    <tr>\n",
       "      <th>2</th>\n",
       "      <td>1.0</td>\n",
       "      <td>1.0</td>\n",
       "      <td>1</td>\n",
       "      <td>3</td>\n",
       "      <td>1.792280</td>\n",
       "      <td>0.208461</td>\n",
       "      <td>1.647270</td>\n",
       "      <td>-0.003260</td>\n",
       "      <td>1.485330</td>\n",
       "      <td>-0.646899</td>\n",
       "    </tr>\n",
       "    <tr>\n",
       "      <th>3</th>\n",
       "      <td>1.0</td>\n",
       "      <td>1.0</td>\n",
       "      <td>1</td>\n",
       "      <td>4</td>\n",
       "      <td>-1.232440</td>\n",
       "      <td>-0.487231</td>\n",
       "      <td>-0.234102</td>\n",
       "      <td>-0.197375</td>\n",
       "      <td>-0.907220</td>\n",
       "      <td>-0.625733</td>\n",
       "    </tr>\n",
       "    <tr>\n",
       "      <th>4</th>\n",
       "      <td>1.0</td>\n",
       "      <td>1.0</td>\n",
       "      <td>1</td>\n",
       "      <td>5</td>\n",
       "      <td>1.035210</td>\n",
       "      <td>1.873090</td>\n",
       "      <td>1.062530</td>\n",
       "      <td>-0.482464</td>\n",
       "      <td>0.291449</td>\n",
       "      <td>0.391620</td>\n",
       "    </tr>\n",
       "    <tr>\n",
       "      <th>...</th>\n",
       "      <td>...</td>\n",
       "      <td>...</td>\n",
       "      <td>...</td>\n",
       "      <td>...</td>\n",
       "      <td>...</td>\n",
       "      <td>...</td>\n",
       "      <td>...</td>\n",
       "      <td>...</td>\n",
       "      <td>...</td>\n",
       "      <td>...</td>\n",
       "    </tr>\n",
       "    <tr>\n",
       "      <th>51995</th>\n",
       "      <td>4.0</td>\n",
       "      <td>1000.0</td>\n",
       "      <td>4000</td>\n",
       "      <td>9</td>\n",
       "      <td>0.117695</td>\n",
       "      <td>-0.017780</td>\n",
       "      <td>-0.097636</td>\n",
       "      <td>-0.524936</td>\n",
       "      <td>0.966657</td>\n",
       "      <td>0.147594</td>\n",
       "    </tr>\n",
       "    <tr>\n",
       "      <th>51996</th>\n",
       "      <td>4.0</td>\n",
       "      <td>1000.0</td>\n",
       "      <td>4000</td>\n",
       "      <td>10</td>\n",
       "      <td>1.183970</td>\n",
       "      <td>0.709122</td>\n",
       "      <td>1.256230</td>\n",
       "      <td>-0.234471</td>\n",
       "      <td>0.683667</td>\n",
       "      <td>-0.309684</td>\n",
       "    </tr>\n",
       "    <tr>\n",
       "      <th>51997</th>\n",
       "      <td>4.0</td>\n",
       "      <td>1000.0</td>\n",
       "      <td>4000</td>\n",
       "      <td>11</td>\n",
       "      <td>-2.158710</td>\n",
       "      <td>-1.487950</td>\n",
       "      <td>-1.752210</td>\n",
       "      <td>-0.128791</td>\n",
       "      <td>-1.917720</td>\n",
       "      <td>-0.071120</td>\n",
       "    </tr>\n",
       "    <tr>\n",
       "      <th>51998</th>\n",
       "      <td>4.0</td>\n",
       "      <td>1000.0</td>\n",
       "      <td>4000</td>\n",
       "      <td>12</td>\n",
       "      <td>1.255730</td>\n",
       "      <td>0.497509</td>\n",
       "      <td>1.060870</td>\n",
       "      <td>0.266409</td>\n",
       "      <td>-0.234768</td>\n",
       "      <td>-0.184250</td>\n",
       "    </tr>\n",
       "    <tr>\n",
       "      <th>51999</th>\n",
       "      <td>4.0</td>\n",
       "      <td>1000.0</td>\n",
       "      <td>4000</td>\n",
       "      <td>13</td>\n",
       "      <td>-1.097160</td>\n",
       "      <td>-1.198370</td>\n",
       "      <td>-1.173090</td>\n",
       "      <td>-0.220871</td>\n",
       "      <td>-3.275950</td>\n",
       "      <td>0.025325</td>\n",
       "    </tr>\n",
       "  </tbody>\n",
       "</table>\n",
       "<p>52000 rows × 10 columns</p>\n",
       "</div>"
      ],
      "text/plain": [
       "       chain__  iter__  draw__   M  disease[MBC]  disease[OMBC]  \\\n",
       "0          1.0     1.0       1   1      0.162775       0.687696   \n",
       "1          1.0     1.0       1   2      0.480693       1.057210   \n",
       "2          1.0     1.0       1   3      1.792280       0.208461   \n",
       "3          1.0     1.0       1   4     -1.232440      -0.487231   \n",
       "4          1.0     1.0       1   5      1.035210       1.873090   \n",
       "...        ...     ...     ...  ..           ...            ...   \n",
       "51995      4.0  1000.0    4000   9      0.117695      -0.017780   \n",
       "51996      4.0  1000.0    4000  10      1.183970       0.709122   \n",
       "51997      4.0  1000.0    4000  11     -2.158710      -1.487950   \n",
       "51998      4.0  1000.0    4000  12      1.255730       0.497509   \n",
       "51999      4.0  1000.0    4000  13     -1.097160      -1.198370   \n",
       "\n",
       "       disease[normal]  assay[T.10x 3' v3]  assay[T.10x 5' v2]  \\\n",
       "0            -0.280872            0.162545            0.968469   \n",
       "1             0.090977           -0.036925            1.354200   \n",
       "2             1.647270           -0.003260            1.485330   \n",
       "3            -0.234102           -0.197375           -0.907220   \n",
       "4             1.062530           -0.482464            0.291449   \n",
       "...                ...                 ...                 ...   \n",
       "51995        -0.097636           -0.524936            0.966657   \n",
       "51996         1.256230           -0.234471            0.683667   \n",
       "51997        -1.752210           -0.128791           -1.917720   \n",
       "51998         1.060870            0.266409           -0.234768   \n",
       "51999        -1.173090           -0.220871           -3.275950   \n",
       "\n",
       "       (disease[OMBC] + disease[MBC]) / 2 - disease[normal]  \n",
       "0                                               0.706107     \n",
       "1                                               0.677974     \n",
       "2                                              -0.646899     \n",
       "3                                              -0.625733     \n",
       "4                                               0.391620     \n",
       "...                                                  ...     \n",
       "51995                                           0.147594     \n",
       "51996                                          -0.309684     \n",
       "51997                                          -0.071120     \n",
       "51998                                          -0.184250     \n",
       "51999                                           0.025325     \n",
       "\n",
       "[52000 rows x 10 columns]"
      ]
     },
     "execution_count": 34,
     "metadata": {},
     "output_type": "execute_result"
    }
   ],
   "source": [
    "x[column_name] = x.eval(escape_column_names(formula, parameter_names))\n",
    "x"
   ]
  },
  {
   "cell_type": "code",
   "execution_count": 35,
   "metadata": {},
   "outputs": [
    {
     "data": {
      "text/plain": [
       "0.7061075"
      ]
     },
     "execution_count": 35,
     "metadata": {},
     "output_type": "execute_result"
    }
   ],
   "source": [
    "(0.687696 + 0.162775)/2 - (-0.280872)"
   ]
  }
 ],
 "metadata": {
  "kernelspec": {
   "display_name": "Python 3",
   "language": "python",
   "name": "python3"
  },
  "language_info": {
   "codemirror_mode": {
    "name": "ipython",
    "version": 3
   },
   "file_extension": ".py",
   "mimetype": "text/x-python",
   "name": "python",
   "nbconvert_exporter": "python",
   "pygments_lexer": "ipython3",
   "version": "3.9.18"
  }
 },
 "nbformat": 4,
 "nbformat_minor": 2
}
