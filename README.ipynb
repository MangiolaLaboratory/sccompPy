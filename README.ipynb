{
 "cells": [
  {
   "cell_type": "markdown",
   "metadata": {},
   "source": [
    "# A Python package for sccomp - Tests differences in cell type proportions and variability from single-cell data\n",
    "Cellular omics such as single-cell genomics, proteomics, and microbiomics allow the characterization of tissue and microbial community composition, which can be compared between conditions to identify biological drivers. This strategy has been critical to unveiling markers of disease progression in conditions such as cancer and pathogen infections.\n",
    "\n",
    "For cellular omic data, no method for differential variability analysis exists, and methods for differential composition analysis only take a few fundamental data properties into account. Here we introduce sccomp, a generalised method for differential composition and variability analyses capable of jointly modelling data count distribution, compositionality, group-specific variability, and proportion mean-variability association, while being robust to outliers.\n",
    "\n",
    "sccomp is an extensive analysis framework that allows realistic data simulation and cross-study knowledge transfer. We demonstrate that mean-variability association is ubiquitous across technologies, highlighting the inadequacy of the very popular Dirichlet-multinomial modeling and providing essential principles for differential variability analysis."
   ]
  },
  {
   "cell_type": "markdown",
   "metadata": {},
   "source": [
    "## installation\n",
    "Here is a demo of installation in editable mode"
   ]
  },
  {
   "cell_type": "code",
   "execution_count": 1,
   "metadata": {},
   "outputs": [
    {
     "name": "stdout",
     "output_type": "stream",
     "text": [
      "Defaulting to user installation because normal site-packages is not writeable\n",
      "Obtaining file:///home/chzhan1/Python/SAiGENCI/sccompPy\n",
      "Requirement already satisfied: pandas>=1.0.0 in /home/chzhan1/.local/lib/python3.9/site-packages (from sccompPy==0.1.0) (2.2.2)\n",
      "Requirement already satisfied: numpy>=1.18.0 in /home/chzhan1/.local/lib/python3.9/site-packages (from sccompPy==0.1.0) (1.26.4)\n",
      "Requirement already satisfied: patsy>=0.5.0 in /home/chzhan1/.local/lib/python3.9/site-packages (from sccompPy==0.1.0) (0.5.6)\n",
      "Requirement already satisfied: cmdstanpy>=1.0.0 in /home/chzhan1/.local/lib/python3.9/site-packages (from sccompPy==0.1.0) (1.2.4)\n",
      "Requirement already satisfied: tqdm in /home/chzhan1/.local/lib/python3.9/site-packages (from cmdstanpy>=1.0.0->sccompPy==0.1.0) (4.66.2)\n",
      "Requirement already satisfied: stanio<2.0.0,>=0.4.0 in /home/chzhan1/.local/lib/python3.9/site-packages (from cmdstanpy>=1.0.0->sccompPy==0.1.0) (0.5.1)\n",
      "Requirement already satisfied: tzdata>=2022.7 in /home/chzhan1/.local/lib/python3.9/site-packages (from pandas>=1.0.0->sccompPy==0.1.0) (2024.1)\n",
      "Requirement already satisfied: pytz>=2020.1 in /home/chzhan1/.local/lib/python3.9/site-packages (from pandas>=1.0.0->sccompPy==0.1.0) (2024.1)\n",
      "Requirement already satisfied: python-dateutil>=2.8.2 in /home/chzhan1/.local/lib/python3.9/site-packages (from pandas>=1.0.0->sccompPy==0.1.0) (2.9.0.post0)\n",
      "Requirement already satisfied: six in /home/chzhan1/.local/lib/python3.9/site-packages (from patsy>=0.5.0->sccompPy==0.1.0) (1.16.0)\n",
      "Installing collected packages: sccompPy\n",
      "  Attempting uninstall: sccompPy\n",
      "    Found existing installation: sccompPy 0.1.0\n",
      "    Uninstalling sccompPy-0.1.0:\n",
      "      Successfully uninstalled sccompPy-0.1.0\n",
      "\u001b[33m  WARNING: Value for scheme.platlib does not match. Please report this to <https://github.com/pypa/pip/issues/10151>\n",
      "  distutils: /home/chzhan1/.local/lib/python3.9/site-packages\n",
      "  sysconfig: /home/chzhan1/.local/lib64/python3.9/site-packages\u001b[0m\n",
      "\u001b[33m  WARNING: Additional context:\n",
      "  user = True\n",
      "  home = None\n",
      "  root = None\n",
      "  prefix = None\u001b[0m\n",
      "  Running setup.py develop for sccompPy\n",
      "Successfully installed sccompPy-0.1.0\n",
      "Note: you may need to restart the kernel to use updated packages.\n"
     ]
    }
   ],
   "source": [
    "%pip install -e ."
   ]
  },
  {
   "cell_type": "markdown",
   "metadata": {},
   "source": [
    "## Import `sccompy` package "
   ]
  },
  {
   "cell_type": "code",
   "execution_count": 2,
   "metadata": {},
   "outputs": [],
   "source": [
    "import sccompPy"
   ]
  },
  {
   "cell_type": "markdown",
   "metadata": {},
   "source": [
    "## Load embeded dataset"
   ]
  },
  {
   "cell_type": "code",
   "execution_count": 3,
   "metadata": {},
   "outputs": [
    {
     "data": {
      "text/html": [
       "<div>\n",
       "<style scoped>\n",
       "    .dataframe tbody tr th:only-of-type {\n",
       "        vertical-align: middle;\n",
       "    }\n",
       "\n",
       "    .dataframe tbody tr th {\n",
       "        vertical-align: top;\n",
       "    }\n",
       "\n",
       "    .dataframe thead th {\n",
       "        text-align: right;\n",
       "    }\n",
       "</style>\n",
       "<table border=\"1\" class=\"dataframe\">\n",
       "  <thead>\n",
       "    <tr style=\"text-align: right;\">\n",
       "      <th></th>\n",
       "      <th>sample</th>\n",
       "      <th>type</th>\n",
       "      <th>phenotype</th>\n",
       "      <th>count</th>\n",
       "      <th>cell_group</th>\n",
       "      <th>proportion</th>\n",
       "    </tr>\n",
       "  </thead>\n",
       "  <tbody>\n",
       "    <tr>\n",
       "      <th>0</th>\n",
       "      <td>10x_6K</td>\n",
       "      <td>benign</td>\n",
       "      <td>b_cell_macrophage_precursor_or_follicular_LTB_...</td>\n",
       "      <td>42</td>\n",
       "      <td>BM</td>\n",
       "      <td>0.008350</td>\n",
       "    </tr>\n",
       "    <tr>\n",
       "      <th>1</th>\n",
       "      <td>10x_6K</td>\n",
       "      <td>benign</td>\n",
       "      <td>B_cell:immature</td>\n",
       "      <td>361</td>\n",
       "      <td>B1</td>\n",
       "      <td>0.071769</td>\n",
       "    </tr>\n",
       "    <tr>\n",
       "      <th>2</th>\n",
       "      <td>10x_6K</td>\n",
       "      <td>benign</td>\n",
       "      <td>B_cell:immature_IGLC3_IGLC2</td>\n",
       "      <td>57</td>\n",
       "      <td>B2</td>\n",
       "      <td>0.011332</td>\n",
       "    </tr>\n",
       "    <tr>\n",
       "      <th>3</th>\n",
       "      <td>10x_6K</td>\n",
       "      <td>benign</td>\n",
       "      <td>B_cell:Memory_ITM2C_IGHA1_MZB1_JCHAIN</td>\n",
       "      <td>40</td>\n",
       "      <td>B3</td>\n",
       "      <td>0.007952</td>\n",
       "    </tr>\n",
       "    <tr>\n",
       "      <th>4</th>\n",
       "      <td>10x_6K</td>\n",
       "      <td>benign</td>\n",
       "      <td>Dendritic_CD11_CD1_high_mito</td>\n",
       "      <td>75</td>\n",
       "      <td>Dm</td>\n",
       "      <td>0.014911</td>\n",
       "    </tr>\n",
       "    <tr>\n",
       "      <th>...</th>\n",
       "      <td>...</td>\n",
       "      <td>...</td>\n",
       "      <td>...</td>\n",
       "      <td>...</td>\n",
       "      <td>...</td>\n",
       "      <td>...</td>\n",
       "    </tr>\n",
       "    <tr>\n",
       "      <th>715</th>\n",
       "      <td>SRR7244582</td>\n",
       "      <td>benign</td>\n",
       "      <td>T_cell:CD8+_GZMK_DUSP2_LYAR_CCL5</td>\n",
       "      <td>197</td>\n",
       "      <td>CD8 2</td>\n",
       "      <td>0.060727</td>\n",
       "    </tr>\n",
       "    <tr>\n",
       "      <th>716</th>\n",
       "      <td>SRR7244582</td>\n",
       "      <td>benign</td>\n",
       "      <td>T_cell:CD8+_non_activated</td>\n",
       "      <td>320</td>\n",
       "      <td>CD8 3</td>\n",
       "      <td>0.098644</td>\n",
       "    </tr>\n",
       "    <tr>\n",
       "      <th>717</th>\n",
       "      <td>SRR7244582</td>\n",
       "      <td>benign</td>\n",
       "      <td>T_cell:CD8+_PPBP_SAT1</td>\n",
       "      <td>39</td>\n",
       "      <td>CD8 4</td>\n",
       "      <td>0.012022</td>\n",
       "    </tr>\n",
       "    <tr>\n",
       "      <th>718</th>\n",
       "      <td>SRR7244582</td>\n",
       "      <td>benign</td>\n",
       "      <td>T_cell:CD8+_S100B</td>\n",
       "      <td>88</td>\n",
       "      <td>CD8 5</td>\n",
       "      <td>0.027127</td>\n",
       "    </tr>\n",
       "    <tr>\n",
       "      <th>719</th>\n",
       "      <td>SRR7244582</td>\n",
       "      <td>benign</td>\n",
       "      <td>T_cell:CD8low_TIMP1_PPBP</td>\n",
       "      <td>107</td>\n",
       "      <td>CD8 6</td>\n",
       "      <td>0.032984</td>\n",
       "    </tr>\n",
       "  </tbody>\n",
       "</table>\n",
       "<p>720 rows × 6 columns</p>\n",
       "</div>"
      ],
      "text/plain": [
       "         sample    type                                          phenotype  \\\n",
       "0        10x_6K  benign  b_cell_macrophage_precursor_or_follicular_LTB_...   \n",
       "1        10x_6K  benign                                    B_cell:immature   \n",
       "2        10x_6K  benign                        B_cell:immature_IGLC3_IGLC2   \n",
       "3        10x_6K  benign              B_cell:Memory_ITM2C_IGHA1_MZB1_JCHAIN   \n",
       "4        10x_6K  benign                       Dendritic_CD11_CD1_high_mito   \n",
       "..          ...     ...                                                ...   \n",
       "715  SRR7244582  benign                   T_cell:CD8+_GZMK_DUSP2_LYAR_CCL5   \n",
       "716  SRR7244582  benign                          T_cell:CD8+_non_activated   \n",
       "717  SRR7244582  benign                              T_cell:CD8+_PPBP_SAT1   \n",
       "718  SRR7244582  benign                                  T_cell:CD8+_S100B   \n",
       "719  SRR7244582  benign                           T_cell:CD8low_TIMP1_PPBP   \n",
       "\n",
       "     count cell_group  proportion  \n",
       "0       42         BM    0.008350  \n",
       "1      361         B1    0.071769  \n",
       "2       57         B2    0.011332  \n",
       "3       40         B3    0.007952  \n",
       "4       75         Dm    0.014911  \n",
       "..     ...        ...         ...  \n",
       "715    197      CD8 2    0.060727  \n",
       "716    320      CD8 3    0.098644  \n",
       "717     39      CD8 4    0.012022  \n",
       "718     88      CD8 5    0.027127  \n",
       "719    107      CD8 6    0.032984  \n",
       "\n",
       "[720 rows x 6 columns]"
      ]
     },
     "execution_count": 3,
     "metadata": {},
     "output_type": "execute_result"
    }
   ],
   "source": [
    "import pkg_resources\n",
    "import pandas as pd\n",
    "\n",
    "data_file_path = pkg_resources.resource_filename(\"sccompPy\", \"data/count_obj.csv\")\n",
    "\n",
    "count_obj = pd.read_csv(data_file_path)\n",
    "count_obj"
   ]
  },
  {
   "cell_type": "markdown",
   "metadata": {},
   "source": [
    "## `sccomp_estimate` function"
   ]
  },
  {
   "cell_type": "code",
   "execution_count": 4,
   "metadata": {},
   "outputs": [
    {
     "name": "stderr",
     "output_type": "stream",
     "text": [
      "17:23:36 - cmdstanpy - INFO - CmdStan start processing\n"
     ]
    },
    {
     "data": {
      "application/vnd.jupyter.widget-view+json": {
       "model_id": "03c85ede7d114e7a99b8c41729bd9816",
       "version_major": 2,
       "version_minor": 0
      },
      "text/plain": [
       "chain 1 |          | 00:00 Status"
      ]
     },
     "metadata": {},
     "output_type": "display_data"
    },
    {
     "data": {
      "application/vnd.jupyter.widget-view+json": {
       "model_id": "624a96eba1d9444db158cc47213f5b40",
       "version_major": 2,
       "version_minor": 0
      },
      "text/plain": [
       "chain 2 |          | 00:00 Status"
      ]
     },
     "metadata": {},
     "output_type": "display_data"
    },
    {
     "data": {
      "application/vnd.jupyter.widget-view+json": {
       "model_id": "b6b8942dfeba454795835dbda940f190",
       "version_major": 2,
       "version_minor": 0
      },
      "text/plain": [
       "chain 3 |          | 00:00 Status"
      ]
     },
     "metadata": {},
     "output_type": "display_data"
    },
    {
     "data": {
      "application/vnd.jupyter.widget-view+json": {
       "model_id": "ccbe4e7d04da4bd897d165ea67c5d80a",
       "version_major": 2,
       "version_minor": 0
      },
      "text/plain": [
       "chain 4 |          | 00:00 Status"
      ]
     },
     "metadata": {},
     "output_type": "display_data"
    },
    {
     "name": "stdout",
     "output_type": "stream",
     "text": [
      "                                                                                                                                                                                                                                                                                                                                "
     ]
    },
    {
     "name": "stderr",
     "output_type": "stream",
     "text": [
      "17:23:45 - cmdstanpy - INFO - CmdStan done processing.\n",
      "17:23:45 - cmdstanpy - WARNING - Non-fatal error during sampling:\n",
      "Exception: Exception: beta_binomial_lpmf: First prior sample size parameter[1] is inf, but must be positive finite! (in 'glm_multi_beta_binomial.stan', line 214, column 16 to line 219, column 19) (in 'glm_multi_beta_binomial.stan', line 653, column 3 to line 683, column 8)\n",
      "Exception: Exception: beta_binomial_lpmf: First prior sample size parameter[1] is inf, but must be positive finite! (in 'glm_multi_beta_binomial.stan', line 214, column 16 to line 219, column 19) (in 'glm_multi_beta_binomial.stan', line 653, column 3 to line 683, column 8)\n",
      "Exception: Exception: beta_binomial_lpmf: Second prior sample size parameter[5] is 0, but must be positive finite! (in 'glm_multi_beta_binomial.stan', line 214, column 16 to line 219, column 19) (in 'glm_multi_beta_binomial.stan', line 653, column 3 to line 683, column 8)\n",
      "Exception: Exception: beta_binomial_lpmf: First prior sample size parameter[1] is inf, but must be positive finite! (in 'glm_multi_beta_binomial.stan', line 214, column 16 to line 219, column 19) (in 'glm_multi_beta_binomial.stan', line 653, column 3 to line 683, column 8)\n",
      "Consider re-running with show_console=True if the above output is unclear!\n"
     ]
    },
    {
     "name": "stdout",
     "output_type": "stream",
     "text": [
      "\n"
     ]
    }
   ],
   "source": [
    "estimate_res = sccompPy.sccomp_estimate(\n",
    "    data = count_obj,\n",
    "    formula_composition = '~ 0 + type', \n",
    "    sample = 'sample',\n",
    "    cell_group = 'cell_group',\n",
    "    count = 'count',\n",
    "    verbose = False\n",
    ")"
   ]
  },
  {
   "cell_type": "code",
   "execution_count": 5,
   "metadata": {},
   "outputs": [
    {
     "data": {
      "text/plain": [
       "dict_keys(['fit', 'model_input', 'truncation_df2', 'sample', 'cell_group', 'count', 'formula_composition', 'formula_variability', 'noise_model'])"
      ]
     },
     "execution_count": 5,
     "metadata": {},
     "output_type": "execute_result"
    }
   ],
   "source": [
    "estimate_res.keys()"
   ]
  },
  {
   "cell_type": "markdown",
   "metadata": {},
   "source": [
    "## `sccomp_test` function"
   ]
  },
  {
   "cell_type": "code",
   "execution_count": 6,
   "metadata": {},
   "outputs": [
    {
     "name": "stdout",
     "output_type": "stream",
     "text": [
      "Warning: These elements require backquotes: ['type[cancer]', 'type[benign]'], sccompPy will auto quote them.\n"
     ]
    },
    {
     "name": "stderr",
     "output_type": "stream",
     "text": [
      "/home/chzhan1/Python/SAiGENCI/sccompPy/sccompPy/utilities.py:288: FutureWarning: The default of observed=False is deprecated and will be changed to True in a future version of pandas. Pass observed=False to retain current behavior or observed=True to adopt the future default and silence this warning.\n",
      "  grouped = draws.groupby([cell_group, 'M', 'parameter'])\n",
      "/home/chzhan1/Python/SAiGENCI/sccompPy/sccompPy/utilities.py:305: FutureWarning: The default of observed=False is deprecated and will be changed to True in a future version of pandas. Pass observed=False to retain current behavior or observed=True to adopt the future default and silence this warning.\n",
      "  summary[\"FDR\"] = summary.groupby(\"parameter\")[f\"{prefix}pH0\"].transform(lambda pH0: get_FDR(pH0))\n"
     ]
    }
   ],
   "source": [
    "test_res = sccompPy.sccomp_test(estimate_res, contrasts= ['type[cancer] - type[benign]'])"
   ]
  },
  {
   "cell_type": "markdown",
   "metadata": {},
   "source": [
    "### `sccomp_test` returns a `dict` where the first element - *result* contains the result table"
   ]
  },
  {
   "cell_type": "code",
   "execution_count": 7,
   "metadata": {},
   "outputs": [
    {
     "data": {
      "text/html": [
       "<div>\n",
       "<style scoped>\n",
       "    .dataframe tbody tr th:only-of-type {\n",
       "        vertical-align: middle;\n",
       "    }\n",
       "\n",
       "    .dataframe tbody tr th {\n",
       "        vertical-align: top;\n",
       "    }\n",
       "\n",
       "    .dataframe thead th {\n",
       "        text-align: right;\n",
       "    }\n",
       "</style>\n",
       "<table border=\"1\" class=\"dataframe\">\n",
       "  <thead>\n",
       "    <tr style=\"text-align: right;\">\n",
       "      <th></th>\n",
       "      <th>cell_group</th>\n",
       "      <th>parameter</th>\n",
       "      <th>c_lower</th>\n",
       "      <th>c_effect</th>\n",
       "      <th>c_upper</th>\n",
       "      <th>c_pH0</th>\n",
       "      <th>FDR</th>\n",
       "      <th>N_Eff</th>\n",
       "      <th>R_k_hat</th>\n",
       "      <th>v_lower</th>\n",
       "      <th>v_effect</th>\n",
       "      <th>v_upper</th>\n",
       "      <th>v_pH0</th>\n",
       "      <th>factor</th>\n",
       "      <th>design_matrix_col</th>\n",
       "      <th>count_data</th>\n",
       "    </tr>\n",
       "  </thead>\n",
       "  <tbody>\n",
       "    <tr>\n",
       "      <th>0</th>\n",
       "      <td>B1</td>\n",
       "      <td>type[benign]</td>\n",
       "      <td>0.885494</td>\n",
       "      <td>1.147990</td>\n",
       "      <td>1.386073</td>\n",
       "      <td>0.00000</td>\n",
       "      <td>0.000000</td>\n",
       "      <td>4636.410</td>\n",
       "      <td>0.999638</td>\n",
       "      <td>NaN</td>\n",
       "      <td>NaN</td>\n",
       "      <td>NaN</td>\n",
       "      <td>NaN</td>\n",
       "      <td>type</td>\n",
       "      <td>type[benign]</td>\n",
       "      <td>sample    type        phenotype  co...</td>\n",
       "    </tr>\n",
       "    <tr>\n",
       "      <th>1</th>\n",
       "      <td>B1</td>\n",
       "      <td>type[cancer]</td>\n",
       "      <td>0.149581</td>\n",
       "      <td>0.495901</td>\n",
       "      <td>0.817201</td>\n",
       "      <td>0.01325</td>\n",
       "      <td>0.000990</td>\n",
       "      <td>6088.560</td>\n",
       "      <td>0.999419</td>\n",
       "      <td>NaN</td>\n",
       "      <td>NaN</td>\n",
       "      <td>NaN</td>\n",
       "      <td>NaN</td>\n",
       "      <td>type</td>\n",
       "      <td>type[cancer]</td>\n",
       "      <td>sample    type        phenotype  co...</td>\n",
       "    </tr>\n",
       "    <tr>\n",
       "      <th>2</th>\n",
       "      <td>B1</td>\n",
       "      <td>type[cancer] - type[benign]</td>\n",
       "      <td>-1.056506</td>\n",
       "      <td>-0.654636</td>\n",
       "      <td>-0.234130</td>\n",
       "      <td>0.00675</td>\n",
       "      <td>0.001275</td>\n",
       "      <td>NaN</td>\n",
       "      <td>NaN</td>\n",
       "      <td>NaN</td>\n",
       "      <td>NaN</td>\n",
       "      <td>NaN</td>\n",
       "      <td>NaN</td>\n",
       "      <td>NaN</td>\n",
       "      <td>NaN</td>\n",
       "      <td>sample    type        phenotype  co...</td>\n",
       "    </tr>\n",
       "    <tr>\n",
       "      <th>3</th>\n",
       "      <td>B2</td>\n",
       "      <td>type[benign]</td>\n",
       "      <td>0.393509</td>\n",
       "      <td>0.729689</td>\n",
       "      <td>1.017565</td>\n",
       "      <td>0.00025</td>\n",
       "      <td>0.000024</td>\n",
       "      <td>5653.390</td>\n",
       "      <td>0.999175</td>\n",
       "      <td>NaN</td>\n",
       "      <td>NaN</td>\n",
       "      <td>NaN</td>\n",
       "      <td>NaN</td>\n",
       "      <td>type</td>\n",
       "      <td>type[benign]</td>\n",
       "      <td>sample    type                    p...</td>\n",
       "    </tr>\n",
       "    <tr>\n",
       "      <th>4</th>\n",
       "      <td>B2</td>\n",
       "      <td>type[cancer]</td>\n",
       "      <td>-0.426521</td>\n",
       "      <td>0.028897</td>\n",
       "      <td>0.444366</td>\n",
       "      <td>0.63525</td>\n",
       "      <td>0.087956</td>\n",
       "      <td>4994.700</td>\n",
       "      <td>0.999616</td>\n",
       "      <td>NaN</td>\n",
       "      <td>NaN</td>\n",
       "      <td>NaN</td>\n",
       "      <td>NaN</td>\n",
       "      <td>type</td>\n",
       "      <td>type[cancer]</td>\n",
       "      <td>sample    type                    p...</td>\n",
       "    </tr>\n",
       "    <tr>\n",
       "      <th>...</th>\n",
       "      <td>...</td>\n",
       "      <td>...</td>\n",
       "      <td>...</td>\n",
       "      <td>...</td>\n",
       "      <td>...</td>\n",
       "      <td>...</td>\n",
       "      <td>...</td>\n",
       "      <td>...</td>\n",
       "      <td>...</td>\n",
       "      <td>...</td>\n",
       "      <td>...</td>\n",
       "      <td>...</td>\n",
       "      <td>...</td>\n",
       "      <td>...</td>\n",
       "      <td>...</td>\n",
       "      <td>...</td>\n",
       "    </tr>\n",
       "    <tr>\n",
       "      <th>103</th>\n",
       "      <td>TM2</td>\n",
       "      <td>type[cancer]</td>\n",
       "      <td>-1.220657</td>\n",
       "      <td>-0.906117</td>\n",
       "      <td>-0.590917</td>\n",
       "      <td>0.00000</td>\n",
       "      <td>0.000000</td>\n",
       "      <td>3886.600</td>\n",
       "      <td>0.999885</td>\n",
       "      <td>NaN</td>\n",
       "      <td>NaN</td>\n",
       "      <td>NaN</td>\n",
       "      <td>NaN</td>\n",
       "      <td>type</td>\n",
       "      <td>type[cancer]</td>\n",
       "      <td>sample    type                     ...</td>\n",
       "    </tr>\n",
       "    <tr>\n",
       "      <th>104</th>\n",
       "      <td>TM2</td>\n",
       "      <td>type[cancer] - type[benign]</td>\n",
       "      <td>-0.169545</td>\n",
       "      <td>0.274726</td>\n",
       "      <td>0.722179</td>\n",
       "      <td>0.23100</td>\n",
       "      <td>0.055646</td>\n",
       "      <td>NaN</td>\n",
       "      <td>NaN</td>\n",
       "      <td>NaN</td>\n",
       "      <td>NaN</td>\n",
       "      <td>NaN</td>\n",
       "      <td>NaN</td>\n",
       "      <td>NaN</td>\n",
       "      <td>NaN</td>\n",
       "      <td>sample    type                     ...</td>\n",
       "    </tr>\n",
       "    <tr>\n",
       "      <th>105</th>\n",
       "      <td>TM3</td>\n",
       "      <td>type[benign]</td>\n",
       "      <td>-1.706025</td>\n",
       "      <td>-0.801815</td>\n",
       "      <td>0.287057</td>\n",
       "      <td>0.09700</td>\n",
       "      <td>0.012589</td>\n",
       "      <td>913.663</td>\n",
       "      <td>0.999229</td>\n",
       "      <td>NaN</td>\n",
       "      <td>NaN</td>\n",
       "      <td>NaN</td>\n",
       "      <td>NaN</td>\n",
       "      <td>type</td>\n",
       "      <td>type[benign]</td>\n",
       "      <td>sample    type                     ...</td>\n",
       "    </tr>\n",
       "    <tr>\n",
       "      <th>106</th>\n",
       "      <td>TM3</td>\n",
       "      <td>type[cancer]</td>\n",
       "      <td>-3.921500</td>\n",
       "      <td>-2.679785</td>\n",
       "      <td>-1.412898</td>\n",
       "      <td>0.00000</td>\n",
       "      <td>0.000000</td>\n",
       "      <td>738.823</td>\n",
       "      <td>1.000240</td>\n",
       "      <td>NaN</td>\n",
       "      <td>NaN</td>\n",
       "      <td>NaN</td>\n",
       "      <td>NaN</td>\n",
       "      <td>type</td>\n",
       "      <td>type[cancer]</td>\n",
       "      <td>sample    type                     ...</td>\n",
       "    </tr>\n",
       "    <tr>\n",
       "      <th>107</th>\n",
       "      <td>TM3</td>\n",
       "      <td>type[cancer] - type[benign]</td>\n",
       "      <td>-3.132293</td>\n",
       "      <td>-1.870932</td>\n",
       "      <td>-0.752256</td>\n",
       "      <td>0.00100</td>\n",
       "      <td>0.000375</td>\n",
       "      <td>NaN</td>\n",
       "      <td>NaN</td>\n",
       "      <td>NaN</td>\n",
       "      <td>NaN</td>\n",
       "      <td>NaN</td>\n",
       "      <td>NaN</td>\n",
       "      <td>NaN</td>\n",
       "      <td>NaN</td>\n",
       "      <td>sample    type                     ...</td>\n",
       "    </tr>\n",
       "  </tbody>\n",
       "</table>\n",
       "<p>108 rows × 16 columns</p>\n",
       "</div>"
      ],
      "text/plain": [
       "    cell_group                    parameter   c_lower  c_effect   c_upper  \\\n",
       "0           B1                 type[benign]  0.885494  1.147990  1.386073   \n",
       "1           B1                 type[cancer]  0.149581  0.495901  0.817201   \n",
       "2           B1  type[cancer] - type[benign] -1.056506 -0.654636 -0.234130   \n",
       "3           B2                 type[benign]  0.393509  0.729689  1.017565   \n",
       "4           B2                 type[cancer] -0.426521  0.028897  0.444366   \n",
       "..         ...                          ...       ...       ...       ...   \n",
       "103        TM2                 type[cancer] -1.220657 -0.906117 -0.590917   \n",
       "104        TM2  type[cancer] - type[benign] -0.169545  0.274726  0.722179   \n",
       "105        TM3                 type[benign] -1.706025 -0.801815  0.287057   \n",
       "106        TM3                 type[cancer] -3.921500 -2.679785 -1.412898   \n",
       "107        TM3  type[cancer] - type[benign] -3.132293 -1.870932 -0.752256   \n",
       "\n",
       "       c_pH0       FDR     N_Eff   R_k_hat  v_lower  v_effect  v_upper  v_pH0  \\\n",
       "0    0.00000  0.000000  4636.410  0.999638      NaN       NaN      NaN    NaN   \n",
       "1    0.01325  0.000990  6088.560  0.999419      NaN       NaN      NaN    NaN   \n",
       "2    0.00675  0.001275       NaN       NaN      NaN       NaN      NaN    NaN   \n",
       "3    0.00025  0.000024  5653.390  0.999175      NaN       NaN      NaN    NaN   \n",
       "4    0.63525  0.087956  4994.700  0.999616      NaN       NaN      NaN    NaN   \n",
       "..       ...       ...       ...       ...      ...       ...      ...    ...   \n",
       "103  0.00000  0.000000  3886.600  0.999885      NaN       NaN      NaN    NaN   \n",
       "104  0.23100  0.055646       NaN       NaN      NaN       NaN      NaN    NaN   \n",
       "105  0.09700  0.012589   913.663  0.999229      NaN       NaN      NaN    NaN   \n",
       "106  0.00000  0.000000   738.823  1.000240      NaN       NaN      NaN    NaN   \n",
       "107  0.00100  0.000375       NaN       NaN      NaN       NaN      NaN    NaN   \n",
       "\n",
       "    factor design_matrix_col  \\\n",
       "0     type      type[benign]   \n",
       "1     type      type[cancer]   \n",
       "2      NaN               NaN   \n",
       "3     type      type[benign]   \n",
       "4     type      type[cancer]   \n",
       "..     ...               ...   \n",
       "103   type      type[cancer]   \n",
       "104    NaN               NaN   \n",
       "105   type      type[benign]   \n",
       "106   type      type[cancer]   \n",
       "107    NaN               NaN   \n",
       "\n",
       "                                            count_data  \n",
       "0               sample    type        phenotype  co...  \n",
       "1               sample    type        phenotype  co...  \n",
       "2               sample    type        phenotype  co...  \n",
       "3               sample    type                    p...  \n",
       "4               sample    type                    p...  \n",
       "..                                                 ...  \n",
       "103             sample    type                     ...  \n",
       "104             sample    type                     ...  \n",
       "105             sample    type                     ...  \n",
       "106             sample    type                     ...  \n",
       "107             sample    type                     ...  \n",
       "\n",
       "[108 rows x 16 columns]"
      ]
     },
     "execution_count": 7,
     "metadata": {},
     "output_type": "execute_result"
    }
   ],
   "source": [
    "test_res['result']"
   ]
  }
 ],
 "metadata": {
  "kernelspec": {
   "display_name": "Python 3",
   "language": "python",
   "name": "python3"
  },
  "language_info": {
   "codemirror_mode": {
    "name": "ipython",
    "version": 3
   },
   "file_extension": ".py",
   "mimetype": "text/x-python",
   "name": "python",
   "nbconvert_exporter": "python",
   "pygments_lexer": "ipython3",
   "version": "3.9.18"
  }
 },
 "nbformat": 4,
 "nbformat_minor": 2
}
